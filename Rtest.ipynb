{
  "nbformat": 4,
  "nbformat_minor": 0,
  "metadata": {
    "colab": {
      "name": "Rtest.ipynb",
      "provenance": [],
      "collapsed_sections": [],
      "include_colab_link": true
    },
    "kernelspec": {
      "name": "ir",
      "display_name": "R"
    }
  },
  "cells": [
    {
      "cell_type": "markdown",
      "metadata": {
        "id": "view-in-github",
        "colab_type": "text"
      },
      "source": [
        "<a href=\"https://colab.research.google.com/github/yamasaki-yu/test/blob/master/Rtest.ipynb\" target=\"_parent\"><img src=\"https://colab.research.google.com/assets/colab-badge.svg\" alt=\"Open In Colab\"/></a>"
      ]
    },
    {
      "cell_type": "markdown",
      "metadata": {
        "id": "sHHBgt-cOp4H",
        "colab_type": "text"
      },
      "source": [
        "# 第1章 導入 / 第2章 1つの変数の記述統計\n",
        "\n"
      ]
    },
    {
      "cell_type": "code",
      "metadata": {
        "id": "Lu-XK7Rtv28Z",
        "colab_type": "code",
        "outputId": "8a37e40c-53b8-46d6-a856-80785f42923b",
        "colab": {
          "base_uri": "https://localhost:8080/",
          "height": 51
        }
      },
      "source": [
        "2+3\n",
        "4+4"
      ],
      "execution_count": 0,
      "outputs": [
        {
          "output_type": "display_data",
          "data": {
            "text/plain": [
              "[1] 5"
            ],
            "text/latex": "5",
            "text/markdown": "5",
            "text/html": [
              "5"
            ]
          },
          "metadata": {
            "tags": []
          }
        },
        {
          "output_type": "display_data",
          "data": {
            "text/plain": [
              "[1] 8"
            ],
            "text/latex": "8",
            "text/markdown": "8",
            "text/html": [
              "8"
            ]
          },
          "metadata": {
            "tags": []
          }
        }
      ]
    },
    {
      "cell_type": "code",
      "metadata": {
        "id": "fAZeaKlOwDdg",
        "colab_type": "code",
        "colab": {}
      },
      "source": [
        "身長 <- c(173,178,180,183,182,174,179,179,174,192)\n",
        "身長"
      ],
      "execution_count": 0,
      "outputs": []
    },
    {
      "cell_type": "code",
      "metadata": {
        "id": "QQ_jE4ZTx41f",
        "colab_type": "code",
        "outputId": "2343ab07-73db-4878-e36e-f3f17f143fec",
        "colab": {
          "base_uri": "https://localhost:8080/",
          "height": 488
        }
      },
      "source": [
        "var_shidouhou <- c(\"C\",\"B\",\"B\",\"A\",\"B\",\"C\",\"A\",\"D\",\"D\",\"D\",\"A\",\"A\",\"A\",\"C\",\"B\",\"D\",\"C\",\"C\",\"B\",\"D\")\n",
        "table(var_shidouhou)\n",
        "\n",
        "var_testShinri <-c(13,14,7,12,10,6,8,15,4,14,9,6,10,12,5,12,8,8,12,15)\n",
        "hist(var_testShinri)"
      ],
      "execution_count": 0,
      "outputs": [
        {
          "output_type": "display_data",
          "data": {
            "text/plain": [
              "var_shidouhou\n",
              "A B C D \n",
              "5 5 5 5 "
            ]
          },
          "metadata": {
            "tags": []
          }
        },
        {
          "output_type": "display_data",
          "data": {
            "image/png": "[encoded data removed]",
            "text/plain": [
              "Plot with title “Histogram of var_testShinri”"
            ]
          },
          "metadata": {
            "tags": [],
            "image/png": {
              "width": 420,
              "height": 420
            },
            "text/plain": {
              "width": 420,
              "height": 420
            }
          }
        }
      ]
    },
    {
      "cell_type": "code",
      "metadata": {
        "id": "BtyeLgPix6Jj",
        "colab_type": "code",
        "outputId": "2d65d608-f8be-4903-8b9c-d0fed36ab3e2",
        "colab": {
          "base_uri": "https://localhost:8080/",
          "height": 187
        }
      },
      "source": [
        "10+13+8+15+8\n",
        "sum(10,13,8,15,8)\n",
        "test_a <- c(10,13,8,15,8)\n",
        "test_a\n",
        "length(test_a)\n",
        "sum(test_a)/length(test_a)\n",
        "mean(test_a)\n",
        "median(test_a)\n",
        "table(test_a)"
      ],
      "execution_count": 0,
      "outputs": [
        {
          "output_type": "display_data",
          "data": {
            "text/plain": [
              "[1] 54"
            ],
            "text/latex": "54",
            "text/markdown": "54",
            "text/html": [
              "54"
            ]
          },
          "metadata": {
            "tags": []
          }
        },
        {
          "output_type": "display_data",
          "data": {
            "text/plain": [
              "[1] 54"
            ],
            "text/latex": "54",
            "text/markdown": "54",
            "text/html": [
              "54"
            ]
          },
          "metadata": {
            "tags": []
          }
        },
        {
          "output_type": "display_data",
          "data": {
            "text/plain": [
              "[1] 10 13  8 15  8"
            ],
            "text/latex": "\\begin{enumerate*}\n\\item 10\n\\item 13\n\\item 8\n\\item 15\n\\item 8\n\\end{enumerate*}\n",
            "text/markdown": "1. 10\n2. 13\n3. 8\n4. 15\n5. 8\n\n\n",
            "text/html": [
              "<style>\n",
              ".list-inline {list-style: none; margin:0; padding: 0}\n",
              ".list-inline>li {display: inline-block}\n",
              ".list-inline>li:not(:last-child)::after {content: \"\\00b7\"; padding: 0 .5ex}\n",
              "</style>\n",
              "<ol class=list-inline><li>10</li><li>13</li><li>8</li><li>15</li><li>8</li></ol>\n"
            ]
          },
          "metadata": {
            "tags": []
          }
        },
        {
          "output_type": "display_data",
          "data": {
            "text/plain": [
              "[1] 5"
            ],
            "text/latex": "5",
            "text/markdown": "5",
            "text/html": [
              "5"
            ]
          },
          "metadata": {
            "tags": []
          }
        },
        {
          "output_type": "display_data",
          "data": {
            "text/plain": [
              "[1] 10.8"
            ],
            "text/latex": "10.8",
            "text/markdown": "10.8",
            "text/html": [
              "10.8"
            ]
          },
          "metadata": {
            "tags": []
          }
        },
        {
          "output_type": "display_data",
          "data": {
            "text/plain": [
              "[1] 10.8"
            ],
            "text/latex": "10.8",
            "text/markdown": "10.8",
            "text/html": [
              "10.8"
            ]
          },
          "metadata": {
            "tags": []
          }
        },
        {
          "output_type": "display_data",
          "data": {
            "text/plain": [
              "[1] 10"
            ],
            "text/latex": "10",
            "text/markdown": "10",
            "text/html": [
              "10"
            ]
          },
          "metadata": {
            "tags": []
          }
        },
        {
          "output_type": "display_data",
          "data": {
            "text/plain": [
              "test_a\n",
              " 8 10 13 15 \n",
              " 2  1  1  1 "
            ]
          },
          "metadata": {
            "tags": []
          }
        }
      ]
    },
    {
      "cell_type": "code",
      "metadata": {
        "id": "ccYgY6dM0Kh9",
        "colab_type": "code",
        "outputId": "e0b0c189-0d7d-457c-a55f-617965ca1bf6",
        "colab": {
          "base_uri": "https://localhost:8080/",
          "height": 85
        }
      },
      "source": [
        "test_a <- c(10,13,8,15,8)\n",
        "test_a_mean <- mean(test_a)\n",
        "test_a_hensa <- test_a - test_a_mean\n",
        "hensa_jijou <- test_a_hensa^2\n",
        "hensa_jijou_sum <- sum(hensa_jijou)\n",
        "data_n <- length(test_a)\n",
        "#標本分散\n",
        "bunsan = hensa_jijou_sum/data_n\n",
        "#普遍分散\n",
        "#bunsan = hensa_jijou_sum/(data_n -1)\n",
        "bunsan\n",
        "std_hensa = sqrt(bunsan)\n",
        "std_hensa\n",
        "\n",
        "huhen_bunsan = var(test_a)\n",
        "hyouhon_bunsan = huhen_bunsan*(data_n-1) / data_n\n",
        "hyouhon_bunsan\n",
        "\n",
        "huhen_std = sd(test_a)\n",
        "hyohon_std = sqrt( huhen_std^2*(data_n - 1) /data_n)\n",
        "hyohon_std"
      ],
      "execution_count": 0,
      "outputs": [
        {
          "output_type": "display_data",
          "data": {
            "text/plain": [
              "[1] 7.76"
            ],
            "text/latex": "7.76",
            "text/markdown": "7.76",
            "text/html": [
              "7.76"
            ]
          },
          "metadata": {
            "tags": []
          }
        },
        {
          "output_type": "display_data",
          "data": {
            "text/plain": [
              "[1] 2.785678"
            ],
            "text/latex": "2.78567765543682",
            "text/markdown": "2.78567765543682",
            "text/html": [
              "2.78567765543682"
            ]
          },
          "metadata": {
            "tags": []
          }
        },
        {
          "output_type": "display_data",
          "data": {
            "text/plain": [
              "[1] 7.76"
            ],
            "text/latex": "7.76",
            "text/markdown": "7.76",
            "text/html": [
              "7.76"
            ]
          },
          "metadata": {
            "tags": []
          }
        },
        {
          "output_type": "display_data",
          "data": {
            "text/plain": [
              "[1] 2.785678"
            ],
            "text/latex": "2.78567765543682",
            "text/markdown": "2.78567765543682",
            "text/html": [
              "2.78567765543682"
            ]
          },
          "metadata": {
            "tags": []
          }
        }
      ]
    },
    {
      "cell_type": "code",
      "metadata": {
        "id": "G-pPu4FF2Kid",
        "colab_type": "code",
        "outputId": "bafd0456-adc5-4a99-d7de-b42606b21c02",
        "colab": {
          "base_uri": "https://localhost:8080/",
          "height": 51
        }
      },
      "source": [
        "test_a <- c(10,13,8,15,8)\n",
        "# 平均偏差\n",
        "heikin_hensa <- mean ( abs( test_a - mean(test_a) ) )\n",
        "heikin_hensa\n",
        "\n",
        "# 範囲\n",
        "max_a <- max(test_a)\n",
        "min_a <- min(test_a)\n",
        "range_a = max_a - min_a\n",
        "range_a"
      ],
      "execution_count": 0,
      "outputs": [
        {
          "output_type": "display_data",
          "data": {
            "text/plain": [
              "[1] 2.56"
            ],
            "text/latex": "2.56",
            "text/markdown": "2.56",
            "text/html": [
              "2.56"
            ]
          },
          "metadata": {
            "tags": []
          }
        },
        {
          "output_type": "display_data",
          "data": {
            "text/plain": [
              "[1] 7"
            ],
            "text/latex": "7",
            "text/markdown": "7",
            "text/html": [
              "7"
            ]
          },
          "metadata": {
            "tags": []
          }
        }
      ]
    },
    {
      "cell_type": "code",
      "metadata": {
        "id": "7fvi3uwg-TFz",
        "colab_type": "code",
        "outputId": "b68bb4fd-1c12-46b7-b1cc-2a647b8a3392",
        "colab": {
          "base_uri": "https://localhost:8080/",
          "height": 136
        }
      },
      "source": [
        "# 標準化\n",
        "\n",
        "var_testShinri <-c(13,14,7,12,10,6,8,15,4,14,9,6,10,12,5,12,8,8,12,15)\n",
        "\n",
        "mean_testShinri <- mean(var_testShinri)\n",
        "mean_testShinri\n",
        "std_testShinri <- sqrt( mean((var_testShinri - mean_testShinri)^2) )\n",
        "std_testShinri\n",
        "\n",
        "zp_testShinri = (var_testShinri - mean_testShinri) / std_testShinri\n",
        "zp_testShinri\n",
        "\n",
        "mean_zp <- mean(zp_testShinri)\n",
        "mean_zp\n",
        "std_zp <- sqrt( mean((zp_testShinri - mean_zp)^2) )\n",
        "std_zp\n",
        "\n"
      ],
      "execution_count": 0,
      "outputs": [
        {
          "output_type": "display_data",
          "data": {
            "text/plain": [
              "[1] 10"
            ],
            "text/latex": "10",
            "text/markdown": "10",
            "text/html": [
              "10"
            ]
          },
          "metadata": {
            "tags": []
          }
        },
        {
          "output_type": "display_data",
          "data": {
            "text/plain": [
              "[1] 3.331666"
            ],
            "text/latex": "3.33166624979154",
            "text/markdown": "3.33166624979154",
            "text/html": [
              "3.33166624979154"
            ]
          },
          "metadata": {
            "tags": []
          }
        },
        {
          "output_type": "display_data",
          "data": {
            "text/plain": [
              " [1]  0.9004503  1.2006005 -0.9004503  0.6003002  0.0000000 -1.2006005\n",
              " [7] -0.6003002  1.5007506 -1.8009007  1.2006005 -0.3001501 -1.2006005\n",
              "[13]  0.0000000  0.6003002 -1.5007506  0.6003002 -0.6003002 -0.6003002\n",
              "[19]  0.6003002  1.5007506"
            ],
            "text/latex": "\\begin{enumerate*}\n\\item 0.900450337781496\n\\item 1.20060045037533\n\\item -0.900450337781496\n\\item 0.600300225187664\n\\item 0\n\\item -1.20060045037533\n\\item -0.600300225187664\n\\item 1.50075056296916\n\\item -1.80090067556299\n\\item 1.20060045037533\n\\item -0.300150112593832\n\\item -1.20060045037533\n\\item 0\n\\item 0.600300225187664\n\\item -1.50075056296916\n\\item 0.600300225187664\n\\item -0.600300225187664\n\\item -0.600300225187664\n\\item 0.600300225187664\n\\item 1.50075056296916\n\\end{enumerate*}\n",
            "text/markdown": "1. 0.900450337781496\n2. 1.20060045037533\n3. -0.900450337781496\n4. 0.600300225187664\n5. 0\n6. -1.20060045037533\n7. -0.600300225187664\n8. 1.50075056296916\n9. -1.80090067556299\n10. 1.20060045037533\n11. -0.300150112593832\n12. -1.20060045037533\n13. 0\n14. 0.600300225187664\n15. -1.50075056296916\n16. 0.600300225187664\n17. -0.600300225187664\n18. -0.600300225187664\n19. 0.600300225187664\n20. 1.50075056296916\n\n\n",
            "text/html": [
              "<style>\n",
              ".list-inline {list-style: none; margin:0; padding: 0}\n",
              ".list-inline>li {display: inline-block}\n",
              ".list-inline>li:not(:last-child)::after {content: \"\\00b7\"; padding: 0 .5ex}\n",
              "</style>\n",
              "<ol class=list-inline><li>0.900450337781496</li><li>1.20060045037533</li><li>-0.900450337781496</li><li>0.600300225187664</li><li>0</li><li>-1.20060045037533</li><li>-0.600300225187664</li><li>1.50075056296916</li><li>-1.80090067556299</li><li>1.20060045037533</li><li>-0.300150112593832</li><li>-1.20060045037533</li><li>0</li><li>0.600300225187664</li><li>-1.50075056296916</li><li>0.600300225187664</li><li>-0.600300225187664</li><li>-0.600300225187664</li><li>0.600300225187664</li><li>1.50075056296916</li></ol>\n"
            ]
          },
          "metadata": {
            "tags": []
          }
        },
        {
          "output_type": "display_data",
          "data": {
            "text/plain": [
              "[1] -2.753874e-18"
            ],
            "text/latex": "-2.75387351811318e-18",
            "text/markdown": "-2.75387351811318e-18",
            "text/html": [
              "-2.75387351811318e-18"
            ]
          },
          "metadata": {
            "tags": []
          }
        },
        {
          "output_type": "display_data",
          "data": {
            "text/plain": [
              "[1] 1"
            ],
            "text/latex": "1",
            "text/markdown": "1",
            "text/html": [
              "1"
            ]
          },
          "metadata": {
            "tags": []
          }
        }
      ]
    },
    {
      "cell_type": "code",
      "metadata": {
        "id": "LQMIcHzH_qlu",
        "colab_type": "code",
        "outputId": "a65a2e87-14fe-4e89-a2d3-79ccbca74a42",
        "colab": {
          "base_uri": "https://localhost:8080/",
          "height": 51
        }
      },
      "source": [
        "# 標準化\n",
        "test_a <- c(10,13,8,15,8)\n",
        "\n",
        "mean_a <- mean ( test_a)\n",
        "std_a <- sqrt( mean((test_a - mean_a)^2) )\n",
        "zp_a =  (test_a - mean_a) / std_a\n",
        "\n",
        "# 検算\n",
        "mean_zp_a <- mean(zp_a)\n",
        "mean_zp_a\n",
        "std_zp_a <- sqrt( mean( (zp_a - mean_zp_a)^2 ) )\n",
        "std_zp_a"
      ],
      "execution_count": 0,
      "outputs": [
        {
          "output_type": "display_data",
          "data": {
            "text/plain": [
              "[1] -2.331685e-16"
            ],
            "text/latex": "-2.33168519214733e-16",
            "text/markdown": "-2.33168519214733e-16",
            "text/html": [
              "-2.33168519214733e-16"
            ]
          },
          "metadata": {
            "tags": []
          }
        },
        {
          "output_type": "display_data",
          "data": {
            "text/plain": [
              "[1] 1"
            ],
            "text/latex": "1",
            "text/markdown": "1",
            "text/html": [
              "1"
            ]
          },
          "metadata": {
            "tags": []
          }
        }
      ]
    },
    {
      "cell_type": "code",
      "metadata": {
        "id": "U3oXHEtiCFI_",
        "colab_type": "code",
        "outputId": "7e5097b7-2359-4633-c63e-9b7aad95e811",
        "colab": {
          "base_uri": "https://localhost:8080/",
          "height": 102
        }
      },
      "source": [
        "# 偏差値\n",
        "hensaval_testShinri <- 10*zp_testShinri + 50\n",
        "hensaval_testShinri\n",
        "\n",
        "# 検算\n",
        "mean_hensavalShinri <- mean(hensaval_testShinri)\n",
        "mean_hensavalShinri\n",
        "std_hensavalShinri <- sqrt( mean( (hensaval_testShinri - mean_hensavalShinri)^2 ) )\n",
        "std_hensavalShinri"
      ],
      "execution_count": 0,
      "outputs": [
        {
          "output_type": "display_data",
          "data": {
            "text/plain": [
              " [1] 59.00450 62.00600 40.99550 56.00300 50.00000 37.99400 43.99700 65.00751\n",
              " [9] 31.99099 62.00600 46.99850 37.99400 50.00000 56.00300 34.99249 56.00300\n",
              "[17] 43.99700 43.99700 56.00300 65.00751"
            ],
            "text/latex": "\\begin{enumerate*}\n\\item 59.004503377815\n\\item 62.0060045037533\n\\item 40.995496622185\n\\item 56.0030022518766\n\\item 50\n\\item 37.9939954962467\n\\item 43.9969977481234\n\\item 65.0075056296916\n\\item 31.9909932443701\n\\item 62.0060045037533\n\\item 46.9984988740617\n\\item 37.9939954962467\n\\item 50\n\\item 56.0030022518766\n\\item 34.9924943703084\n\\item 56.0030022518766\n\\item 43.9969977481234\n\\item 43.9969977481234\n\\item 56.0030022518766\n\\item 65.0075056296916\n\\end{enumerate*}\n",
            "text/markdown": "1. 59.004503377815\n2. 62.0060045037533\n3. 40.995496622185\n4. 56.0030022518766\n5. 50\n6. 37.9939954962467\n7. 43.9969977481234\n8. 65.0075056296916\n9. 31.9909932443701\n10. 62.0060045037533\n11. 46.9984988740617\n12. 37.9939954962467\n13. 50\n14. 56.0030022518766\n15. 34.9924943703084\n16. 56.0030022518766\n17. 43.9969977481234\n18. 43.9969977481234\n19. 56.0030022518766\n20. 65.0075056296916\n\n\n",
            "text/html": [
              "<style>\n",
              ".list-inline {list-style: none; margin:0; padding: 0}\n",
              ".list-inline>li {display: inline-block}\n",
              ".list-inline>li:not(:last-child)::after {content: \"\\00b7\"; padding: 0 .5ex}\n",
              "</style>\n",
              "<ol class=list-inline><li>59.004503377815</li><li>62.0060045037533</li><li>40.995496622185</li><li>56.0030022518766</li><li>50</li><li>37.9939954962467</li><li>43.9969977481234</li><li>65.0075056296916</li><li>31.9909932443701</li><li>62.0060045037533</li><li>46.9984988740617</li><li>37.9939954962467</li><li>50</li><li>56.0030022518766</li><li>34.9924943703084</li><li>56.0030022518766</li><li>43.9969977481234</li><li>43.9969977481234</li><li>56.0030022518766</li><li>65.0075056296916</li></ol>\n"
            ]
          },
          "metadata": {
            "tags": []
          }
        },
        {
          "output_type": "display_data",
          "data": {
            "text/plain": [
              "[1] 50"
            ],
            "text/latex": "50",
            "text/markdown": "50",
            "text/html": [
              "50"
            ]
          },
          "metadata": {
            "tags": []
          }
        },
        {
          "output_type": "display_data",
          "data": {
            "text/plain": [
              "[1] 10"
            ],
            "text/latex": "10",
            "text/markdown": "10",
            "text/html": [
              "10"
            ]
          },
          "metadata": {
            "tags": []
          }
        }
      ]
    },
    {
      "cell_type": "code",
      "metadata": {
        "id": "ik7yDPS7DdB4",
        "colab_type": "code",
        "outputId": "d1daad1a-d0f7-4afb-8e8f-5b370245de91",
        "colab": {
          "base_uri": "https://localhost:8080/",
          "height": 993
        }
      },
      "source": [
        "# 練習問題1\n",
        "daigakuA <- c(60,100,50,40,50,230,120,240,200,30)\n",
        "daigakuB <- c(50,60,40,50,100,80,30,20,100,120)\n",
        "\n",
        "#ヒストグラム\n",
        "hist(daigakuA)\n",
        "hist(daigakuB)\n",
        "\n",
        "# 平均\n",
        "mean_A = mean(daigakuA)\n",
        "mean_A\n",
        "mean_B = mean(daigakuB)\n",
        "mean_B\n",
        "\n",
        "# 標準偏差\n",
        "std_A = sd(daigakuA)\n",
        "std_A\n",
        "std_B = sd(daigakuB)\n",
        "std_B\n",
        "\n",
        "# 大学Aの標準化\n",
        "std_hyouhon_A = sqrt (mean( (daigakuA - mean_A)^2))\n",
        "zp_A = (daigakuA - mean_A) / std_hyouhon_A\n",
        "# 検算\n",
        "mean(zp_A)\n",
        "sqrt (mean( (zp_A - mean(zp_A))^2))\n",
        "\n",
        "# 大学Bの標準化\n",
        "std_hyouhon_B = sqrt (mean( (daigakuB - mean_B)^2))\n",
        "zp_B = (daigakuB - mean_B) / std_hyouhon_B\n",
        "# 検算\n",
        "mean(zp_B)\n",
        "sqrt (mean( (zp_B - mean(zp_A))^2))\n"
      ],
      "execution_count": 0,
      "outputs": [
        {
          "output_type": "display_data",
          "data": {
            "image/png": "[encoded data removed]",
            "text/plain": [
              "Plot with title “Histogram of daigakuA”"
            ]
          },
          "metadata": {
            "tags": [],
            "image/png": {
              "width": 420,
              "height": 420
            },
            "text/plain": {
              "width": 420,
              "height": 420
            }
          }
        },
        {
          "output_type": "display_data",
          "data": {
            "text/plain": [
              "[1] 112"
            ],
            "text/latex": "112",
            "text/markdown": "112",
            "text/html": [
              "112"
            ]
          },
          "metadata": {
            "tags": []
          }
        },
        {
          "output_type": "display_data",
          "data": {
            "text/plain": [
              "[1] 65"
            ],
            "text/latex": "65",
            "text/markdown": "65",
            "text/html": [
              "65"
            ]
          },
          "metadata": {
            "tags": []
          }
        },
        {
          "output_type": "display_data",
          "data": {
            "text/plain": [
              "[1] 82.0298"
            ],
            "text/latex": "82.0298048814508",
            "text/markdown": "82.0298048814508",
            "text/html": [
              "82.0298048814508"
            ]
          },
          "metadata": {
            "tags": []
          }
        },
        {
          "output_type": "display_data",
          "data": {
            "text/plain": [
              "[1] 33.41656"
            ],
            "text/latex": "33.4165627596057",
            "text/markdown": "33.4165627596057",
            "text/html": [
              "33.4165627596057"
            ]
          },
          "metadata": {
            "tags": []
          }
        },
        {
          "output_type": "display_data",
          "data": {
            "text/plain": [
              "[1] -4.18502e-18"
            ],
            "text/latex": "-4.18502038579405e-18",
            "text/markdown": "-4.18502038579405e-18",
            "text/html": [
              "-4.18502038579405e-18"
            ]
          },
          "metadata": {
            "tags": []
          }
        },
        {
          "output_type": "display_data",
          "data": {
            "text/plain": [
              "[1] 1"
            ],
            "text/latex": "1",
            "text/markdown": "1",
            "text/html": [
              "1"
            ]
          },
          "metadata": {
            "tags": []
          }
        },
        {
          "output_type": "display_data",
          "data": {
            "text/plain": [
              "[1] -1.112391e-17"
            ],
            "text/latex": "-1.11239142897013e-17",
            "text/markdown": "-1.11239142897013e-17",
            "text/html": [
              "-1.11239142897013e-17"
            ]
          },
          "metadata": {
            "tags": []
          }
        },
        {
          "output_type": "display_data",
          "data": {
            "text/plain": [
              "[1] 1"
            ],
            "text/latex": "1",
            "text/markdown": "1",
            "text/html": [
              "1"
            ]
          },
          "metadata": {
            "tags": []
          }
        },
        {
          "output_type": "display_data",
          "data": {
            "image/png": "[encoded data removed]",
            "text/plain": [
              "Plot with title “Histogram of daigakuB”"
            ]
          },
          "metadata": {
            "tags": [],
            "image/png": {
              "width": 420,
              "height": 420
            },
            "text/plain": {
              "width": 420,
              "height": 420
            }
          }
        }
      ]
    },
    {
      "cell_type": "markdown",
      "metadata": {
        "id": "atoRfFbePdqk",
        "colab_type": "text"
      },
      "source": [
        "# 第3章　2つの変数の記述統計"
      ]
    },
    {
      "cell_type": "code",
      "metadata": {
        "id": "uDSdNv12EuZt",
        "colab_type": "code",
        "outputId": "6501e87a-3675-48b5-d791-1d7225072f46",
        "colab": {
          "base_uri": "https://localhost:8080/",
          "height": 1000
        }
      },
      "source": [
        "#\n",
        "\n",
        "var_testToukei1 <- c(6,10,6,10,5,3,5,9,3,3,11,6,11,9,7,5,8,7,7,9)\n",
        "var_testToukei2 <- c(10,13,8,15,8,6,9,10,7,3,18,14,18,11,12,5,7,12,7,7)\n",
        "var_testShinri <-c(13,14,7,12,10,6,8,15,4,14,9,6,10,12,5,12,8,8,12,15)\n",
        "\n",
        "plot(var_testToukei1,var_testToukei2)\n",
        "plot(var_testShinri,var_testToukei1)\n",
        "plot(var_testShinri,var_testToukei2)\n"
      ],
      "execution_count": 0,
      "outputs": [
        {
          "output_type": "display_data",
          "data": {
            "image/png": "[encoded data removed]",
            "text/plain": [
              "plot without title"
            ]
          },
          "metadata": {
            "tags": [],
            "image/png": {
              "width": 420,
              "height": 420
            },
            "text/plain": {
              "width": 420,
              "height": 420
            }
          }
        },
        {
          "output_type": "display_data",
          "data": {
            "image/png": "[encoded data removed]",
            "text/plain": [
              "plot without title"
            ]
          },
          "metadata": {
            "tags": [],
            "image/png": {
              "width": 420,
              "height": 420
            },
            "text/plain": {
              "width": 420,
              "height": 420
            }
          }
        },
        {
          "output_type": "display_data",
          "data": {
            "image/png": "[encoded data removed]",
            "text/plain": [
              "plot without title"
            ]
          },
          "metadata": {
            "tags": [],
            "image/png": {
              "width": 420,
              "height": 420
            },
            "text/plain": {
              "width": 420,
              "height": 420
            }
          }
        }
      ]
    },
    {
      "cell_type": "code",
      "metadata": {
        "id": "A42kCWQMcVEr",
        "colab_type": "code",
        "outputId": "da96f6f4-89ca-4952-b278-b53085d7a20d",
        "colab": {
          "base_uri": "https://localhost:8080/",
          "height": 153
        }
      },
      "source": [
        "# 共分散\n",
        "kyobunsanT1andT2 <- mean( (var_testToukei1 - mean(var_testToukei1))*(var_testToukei2 - mean(var_testToukei2)) ) \n",
        "kyobunsanT1andT2\n",
        "kyobunsanT1andT2_cov <- cov(var_testToukei1,var_testToukei2)\n",
        "kyobunsanT1andT2_cov\n",
        "\n",
        "# スケールの影響\n",
        "shinchouM <- c(1.5,1.6,1.7,1.8,1.9)\n",
        "shinchouCM <- shinchouM*100\n",
        "taiju <- c(50,70,60,80,90)\n",
        "cov(shinchouM,taiju)\n",
        "cov(shinchouCM,taiju)\n",
        "\n",
        "# 相関係数\n",
        "r_T1andT2 <- cov(var_testToukei1,var_testToukei2) / ( sd(var_testToukei1) * sd(var_testToukei2) )\n",
        "r_T1andT2\n",
        "r_T1andT2_cor <- cor(var_testToukei1,var_testToukei2)\n",
        "r_T1andT2_cor\n",
        "r_SandT1_cor <- cor(var_testShinri,var_testToukei1)\n",
        "r_SandT1_cor\n",
        "r_SandT2_cor <- cor(var_testShinri,var_testToukei2)\n",
        "r_SandT2_cor"
      ],
      "execution_count": 0,
      "outputs": [
        {
          "output_type": "display_data",
          "data": {
            "text/plain": [
              "[1] 7.55"
            ],
            "text/latex": "7.55",
            "text/markdown": "7.55",
            "text/html": [
              "7.55"
            ]
          },
          "metadata": {
            "tags": []
          }
        },
        {
          "output_type": "display_data",
          "data": {
            "text/plain": [
              "[1] 7.947368"
            ],
            "text/latex": "7.94736842105263",
            "text/markdown": "7.94736842105263",
            "text/html": [
              "7.94736842105263"
            ]
          },
          "metadata": {
            "tags": []
          }
        },
        {
          "output_type": "display_data",
          "data": {
            "text/plain": [
              "[1] 2.25"
            ],
            "text/latex": "2.25",
            "text/markdown": "2.25",
            "text/html": [
              "2.25"
            ]
          },
          "metadata": {
            "tags": []
          }
        },
        {
          "output_type": "display_data",
          "data": {
            "text/plain": [
              "[1] 225"
            ],
            "text/latex": "225",
            "text/markdown": "225",
            "text/html": [
              "225"
            ]
          },
          "metadata": {
            "tags": []
          }
        },
        {
          "output_type": "display_data",
          "data": {
            "text/plain": [
              "[1] 0.749659"
            ],
            "text/latex": "0.749658964824245",
            "text/markdown": "0.749658964824245",
            "text/html": [
              "0.749658964824245"
            ]
          },
          "metadata": {
            "tags": []
          }
        },
        {
          "output_type": "display_data",
          "data": {
            "text/plain": [
              "[1] 0.749659"
            ],
            "text/latex": "0.749658964824245",
            "text/markdown": "0.749658964824245",
            "text/html": [
              "0.749658964824245"
            ]
          },
          "metadata": {
            "tags": []
          }
        },
        {
          "output_type": "display_data",
          "data": {
            "text/plain": [
              "[1] 0.3826645"
            ],
            "text/latex": "0.38266453511156",
            "text/markdown": "0.38266453511156",
            "text/html": [
              "0.38266453511156"
            ]
          },
          "metadata": {
            "tags": []
          }
        },
        {
          "output_type": "display_data",
          "data": {
            "text/plain": [
              "[1] -0.09350516"
            ],
            "text/latex": "-0.0935051617021991",
            "text/markdown": "-0.0935051617021991",
            "text/html": [
              "-0.0935051617021991"
            ]
          },
          "metadata": {
            "tags": []
          }
        }
      ]
    },
    {
      "cell_type": "code",
      "metadata": {
        "id": "wujEP2ZTeLcL",
        "colab_type": "code",
        "outputId": "0f187b34-a805-4cbb-af96-8d88f78497a6",
        "colab": {
          "base_uri": "https://localhost:8080/",
          "height": 102
        }
      },
      "source": [
        "var_math <- c(\"kirai\",\"kirai\",\"suki\",\"suki\",\"suki\",\"kirai\",\"kirai\",\"kirai\",\"kirai\",\"kirai\",\"suki\",\"kirai\",\"suki\",\"kirai\",\"kirai\",\"suki\",\"kirai\",\"kirai\",\"kirai\",\"kirai\")\n",
        "var_toukei <- c( \"suki\",\"suki\",\"suki\",\"suki\", \"kirai\",\"kirai\",\"kirai\",\"kirai\",\"kirai\",\"kirai\", \"suki\",\"suki\",\"suki\",\"kirai\",\"suki\",\"kirai\",\"kirai\",\"kirai\",\"kirai\",\"kirai\")\n",
        "table(var_math,var_toukei)\n",
        "\n",
        "math_bin <- ifelse(var_math==\"suki\",1,0)\n",
        "toukei_bin <- ifelse(var_toukei==\"suki\",1,0)\n",
        "cor(math_bin, toukei_bin)"
      ],
      "execution_count": 0,
      "outputs": [
        {
          "output_type": "display_data",
          "data": {
            "text/plain": [
              "        var_toukei\n",
              "var_math kirai suki\n",
              "   kirai    10    4\n",
              "   suki      2    4"
            ]
          },
          "metadata": {
            "tags": []
          }
        },
        {
          "output_type": "display_data",
          "data": {
            "text/plain": [
              "[1] 0.3563483"
            ],
            "text/latex": "0.356348322549899",
            "text/markdown": "0.356348322549899",
            "text/html": [
              "0.356348322549899"
            ]
          },
          "metadata": {
            "tags": []
          }
        }
      ]
    },
    {
      "cell_type": "code",
      "metadata": {
        "id": "Sb16X0ePZ_o5",
        "colab_type": "code",
        "outputId": "f7c27144-abd9-444a-9ffe-c10166dc5374",
        "colab": {
          "base_uri": "https://localhost:8080/",
          "height": 539
        }
      },
      "source": [
        "# 練習問題(1)\n",
        "var_study <- c(1,3,10,12,6,3,8,4,1,5)\n",
        "var_point <- c(20,40,100,80,50,50,70,50,10,60)\n",
        "# 散布図プロット\n",
        "plot(var_study, var_point)\n",
        "# 相関係数\n",
        "cor(var_study, var_point)\n",
        "\n",
        "# 練習問題(2)\n",
        "var_wayou <- c(\"Y\",\"W\",\"W\",\"Y\",\"W\",\"Y\",\"Y\",\"W\",\"Y\",\"Y\",\"W\",\"Y\",\"W\",\"Y\",\"W\",\"W\",\"Y\",\"Y\",\"W\",\"W\")\n",
        "var_amakara <- c(\"A\",\"K\",\"A\",\"A\",\"K\",\"K\",\"K\",\"K\",\"A\",\"A\",\"A\",\"A\",\"K\",\"K\",\"A\",\"K\",\"K\",\"A\",\"K\",\"K\")\n",
        "table(var_wayou,var_amakara)\n",
        "# ファイ係数\n",
        "wayou_bin = ifelse(var_wayou==\"Y\" ,1,0)\n",
        "amakara_bin = ifelse(var_amakara==\"A\" ,1,0)\n",
        "cor(wayou_bin,amakara_bin)"
      ],
      "execution_count": 0,
      "outputs": [
        {
          "output_type": "display_data",
          "data": {
            "text/plain": [
              "[1] 0.9092974"
            ],
            "text/latex": "0.909297398771979",
            "text/markdown": "0.909297398771979",
            "text/html": [
              "0.909297398771979"
            ]
          },
          "metadata": {
            "tags": []
          }
        },
        {
          "output_type": "display_data",
          "data": {
            "text/plain": [
              "         var_amakara\n",
              "var_wayou A K\n",
              "        W 3 7\n",
              "        Y 6 4"
            ]
          },
          "metadata": {
            "tags": []
          }
        },
        {
          "output_type": "display_data",
          "data": {
            "text/plain": [
              "[1] 0.3015113"
            ],
            "text/latex": "0.301511344577764",
            "text/markdown": "0.301511344577764",
            "text/html": [
              "0.301511344577764"
            ]
          },
          "metadata": {
            "tags": []
          }
        },
        {
          "output_type": "display_data",
          "data": {
            "image/png": "[encoded data removed]",
            "text/plain": [
              "plot without title"
            ]
          },
          "metadata": {
            "tags": [],
            "image/png": {
              "width": 420,
              "height": 420
            },
            "text/plain": {
              "width": 420,
              "height": 420
            }
          }
        }
      ]
    },
    {
      "cell_type": "code",
      "metadata": {
        "id": "6ycq86p2cpFF",
        "colab_type": "code",
        "outputId": "dbd49e55-9573-456c-a9a6-005f5adc922f",
        "colab": {
          "base_uri": "https://localhost:8080/",
          "height": 51
        }
      },
      "source": [
        "# 点推定\n",
        "shinchou <- c(165.2, 175.9, 161.7, 174.2, 172.1, 163.3, 170.9, 170.6, 168.4, 171.3)\n",
        "mean(shinchou)\n",
        "var(shinchou)"
      ],
      "execution_count": 0,
      "outputs": [
        {
          "output_type": "display_data",
          "data": {
            "text/plain": [
              "[1] 169.36"
            ],
            "text/latex": "169.36",
            "text/markdown": "169.36",
            "text/html": [
              "169.36"
            ]
          },
          "metadata": {
            "tags": []
          }
        },
        {
          "output_type": "display_data",
          "data": {
            "text/plain": [
              "[1] 21.66711"
            ],
            "text/latex": "21.6671111111111",
            "text/markdown": "21.6671111111111",
            "text/html": [
              "21.6671111111111"
            ]
          },
          "metadata": {
            "tags": []
          }
        }
      ]
    },
    {
      "cell_type": "code",
      "metadata": {
        "id": "022snobOvrqq",
        "colab_type": "code",
        "outputId": "87570852-6d5d-425a-dfd1-1f65f6d959c0",
        "colab": {
          "base_uri": "https://localhost:8080/",
          "height": 437
        }
      },
      "source": [
        "curve( dnorm(x, mean=0, sd=1), from = -4, to=4)\n",
        "curve( dnorm(x, mean=1, sd=1), from = -4, to=4, add=TRUE)\n",
        "curve( dnorm(x, mean=0, sd=2), from = -4, to=4, add=TRUE)"
      ],
      "execution_count": 0,
      "outputs": [
        {
          "output_type": "display_data",
          "data": {
            "image/png": "[encoded data removed]",
            "text/plain": [
              "plot without title"
            ]
          },
          "metadata": {
            "tags": [],
            "image/png": {
              "width": 420,
              "height": 420
            },
            "text/plain": {
              "width": 420,
              "height": 420
            }
          }
        }
      ]
    },
    {
      "cell_type": "code",
      "metadata": {
        "id": "om83c2rP0efw",
        "colab_type": "code",
        "outputId": "7a5b42be-90a2-4959-c186-40d4f98eacb5",
        "colab": {
          "base_uri": "https://localhost:8080/",
          "height": 993
        }
      },
      "source": [
        "samples <- rnorm(n=10, mean=50, sd=10)\n",
        "samples\n",
        "mean(samples)\n",
        "\n",
        "# 標本抽出と平均値算出の繰り返し\n",
        "samples_ave <- numeric(length = 10000)\n",
        "for(i in 1:10000){\n",
        "  samples <- rnorm(n=10, mean=50, sd=10)\n",
        "  samples_ave[i] <- mean(samples)\n",
        "} \n",
        "hist(samples_ave)\n",
        "\n",
        "# 誤差5以下の平均の数をカウント\n",
        "ErrUnder5 <- ifelse(abs(samples_ave-50) <=5,1,0 )\n",
        "table(ErrUnder5)\n",
        "\n",
        "# 平均と分散を見てみる\n",
        "mean(samples_ave)\n",
        "var(samples_ave)\n",
        "\n",
        "hist(samples_ave, freq=FALSE)\n",
        "curve(dnorm(x,mean=50,sd=sqrt(10)), add=TRUE )\n"
      ],
      "execution_count": 0,
      "outputs": [
        {
          "output_type": "display_data",
          "data": {
            "text/plain": [
              " [1] 65.08905 55.30926 43.34517 55.57900 59.49126 40.82764 53.03464 68.58366\n",
              " [9] 51.54101 43.95104"
            ],
            "text/latex": "\\begin{enumerate*}\n\\item 65.089054905065\n\\item 55.3092560461085\n\\item 43.3451717584254\n\\item 55.5789969317079\n\\item 59.4912605139928\n\\item 40.8276365969035\n\\item 53.0346368858227\n\\item 68.5836636190547\n\\item 51.5410080922681\n\\item 43.9510403464547\n\\end{enumerate*}\n",
            "text/markdown": "1. 65.089054905065\n2. 55.3092560461085\n3. 43.3451717584254\n4. 55.5789969317079\n5. 59.4912605139928\n6. 40.8276365969035\n7. 53.0346368858227\n8. 68.5836636190547\n9. 51.5410080922681\n10. 43.9510403464547\n\n\n",
            "text/html": [
              "<style>\n",
              ".list-inline {list-style: none; margin:0; padding: 0}\n",
              ".list-inline>li {display: inline-block}\n",
              ".list-inline>li:not(:last-child)::after {content: \"\\00b7\"; padding: 0 .5ex}\n",
              "</style>\n",
              "<ol class=list-inline><li>65.089054905065</li><li>55.3092560461085</li><li>43.3451717584254</li><li>55.5789969317079</li><li>59.4912605139928</li><li>40.8276365969035</li><li>53.0346368858227</li><li>68.5836636190547</li><li>51.5410080922681</li><li>43.9510403464547</li></ol>\n"
            ]
          },
          "metadata": {
            "tags": []
          }
        },
        {
          "output_type": "display_data",
          "data": {
            "text/plain": [
              "[1] 53.67517"
            ],
            "text/latex": "53.6751725695803",
            "text/markdown": "53.6751725695803",
            "text/html": [
              "53.6751725695803"
            ]
          },
          "metadata": {
            "tags": []
          }
        },
        {
          "output_type": "display_data",
          "data": {
            "text/plain": [
              "ErrUnder5\n",
              "   0    1 \n",
              "1098 8902 "
            ]
          },
          "metadata": {
            "tags": []
          }
        },
        {
          "output_type": "display_data",
          "data": {
            "text/plain": [
              "[1] 50.05031"
            ],
            "text/latex": "50.0503112358337",
            "text/markdown": "50.0503112358337",
            "text/html": [
              "50.0503112358337"
            ]
          },
          "metadata": {
            "tags": []
          }
        },
        {
          "output_type": "display_data",
          "data": {
            "text/plain": [
              "[1] 9.897586"
            ],
            "text/latex": "9.89758643969958",
            "text/markdown": "9.89758643969958",
            "text/html": [
              "9.89758643969958"
            ]
          },
          "metadata": {
            "tags": []
          }
        },
        {
          "output_type": "display_data",
          "data": {
            "image/png": "[encoded data removed]",
            "text/plain": [
              "Plot with title “Histogram of samples_ave”"
            ]
          },
          "metadata": {
            "tags": [],
            "image/png": {
              "width": 420,
              "height": 420
            },
            "text/plain": {
              "width": 420,
              "height": 420
            }
          }
        },
        {
          "output_type": "display_data",
          "data": {
            "image/png": "[encoded data removed]",
            "text/plain": [
              "Plot with title “Histogram of samples_ave”"
            ]
          },
          "metadata": {
            "tags": [],
            "image/png": {
              "width": 420,
              "height": 420
            },
            "text/plain": {
              "width": 420,
              "height": 420
            }
          }
        }
      ]
    },
    {
      "cell_type": "code",
      "metadata": {
        "id": "676y9drd0_RS",
        "colab_type": "code",
        "outputId": "5f27c96c-cae6-4f34-d696-3d4e1314b1fa",
        "colab": {
          "base_uri": "https://localhost:8080/",
          "height": 454
        }
      },
      "source": [
        "samples_ave <- numeric(length=10000)\n",
        "for (i in 1:10000){\n",
        "  samples <- rnorm(n=100, mean=50, sd=10)\n",
        "  samples_ave[i] <- mean(samples)\n",
        "}\n",
        "var(samples_ave)\n",
        "hist(samples_ave)"
      ],
      "execution_count": 0,
      "outputs": [
        {
          "output_type": "display_data",
          "data": {
            "text/plain": [
              "[1] 1.008349"
            ],
            "text/latex": "1.00834873968903",
            "text/markdown": "1.00834873968903",
            "text/html": [
              "1.00834873968903"
            ]
          },
          "metadata": {
            "tags": []
          }
        },
        {
          "output_type": "display_data",
          "data": {
            "image/png": "[encoded data removed]",
            "text/plain": [
              "Plot with title “Histogram of samples_ave”"
            ]
          },
          "metadata": {
            "tags": [],
            "image/png": {
              "width": 420,
              "height": 420
            },
            "text/plain": {
              "width": 420,
              "height": 420
            }
          }
        }
      ]
    },
    {
      "cell_type": "code",
      "metadata": {
        "id": "je26pq7s5zZG",
        "colab_type": "code",
        "outputId": "989cc739-4178-416d-c13c-72c79a6dc46e",
        "colab": {
          "base_uri": "https://localhost:8080/",
          "height": 1000
        }
      },
      "source": [
        "# 標本分散と不偏分散の標本分布\n",
        "\n",
        "hyouhon_var <- numeric(length=10000)\n",
        "huhen_var <- numeric(length=10000)\n",
        "for (i in 1:10000){\n",
        "  samples <- rnorm(n=10, mean=50, sd=10)\n",
        "  hyouhon_var[i] <- mean( (samples - mean(samples))^2  )\n",
        "  huhen_var[i] <- var(samples)\n",
        "}\n",
        "\n",
        "mean(hyouhon_var)\n",
        "mean(huhen_var)\n",
        "\n",
        "sd(hyouhon_var)\n",
        "sd(huhen_var)\n",
        "\n",
        "hist(hyouhon_var, breaks=seq(0,500,10))\n",
        "hist(huhen_var,breaks=seq(0,500,10))\n",
        "\n",
        "# 200以上の数をカウント\n",
        "hyouhonVar_over200 <- ifelse(hyouhon_var>=200,1,0 )\n",
        "huhenVar_over200 <- ifelse(huhen_var>=200,1,0 )\n",
        "table(hyouhonVar_over200)\n",
        "table(huhenVar_over200)\n",
        "\n",
        "mean(sqrt(huhen_var))\n"
      ],
      "execution_count": 0,
      "outputs": [
        {
          "output_type": "display_data",
          "data": {
            "text/plain": [
              "[1] 90.34461"
            ],
            "text/latex": "90.3446062058352",
            "text/markdown": "90.3446062058352",
            "text/html": [
              "90.3446062058352"
            ]
          },
          "metadata": {
            "tags": []
          }
        },
        {
          "output_type": "display_data",
          "data": {
            "text/plain": [
              "[1] 100.3829"
            ],
            "text/latex": "100.382895784261",
            "text/markdown": "100.382895784261",
            "text/html": [
              "100.382895784261"
            ]
          },
          "metadata": {
            "tags": []
          }
        },
        {
          "output_type": "display_data",
          "data": {
            "text/plain": [
              "[1] 42.46803"
            ],
            "text/latex": "42.4680275528539",
            "text/markdown": "42.4680275528539",
            "text/html": [
              "42.4680275528539"
            ]
          },
          "metadata": {
            "tags": []
          }
        },
        {
          "output_type": "display_data",
          "data": {
            "text/plain": [
              "[1] 47.1867"
            ],
            "text/latex": "47.1866972809488",
            "text/markdown": "47.1866972809488",
            "text/html": [
              "47.1866972809488"
            ]
          },
          "metadata": {
            "tags": []
          }
        },
        {
          "output_type": "display_data",
          "data": {
            "image/png": "[encoded data removed]",
            "text/plain": [
              "Plot with title “Histogram of hyouhon_var”"
            ]
          },
          "metadata": {
            "tags": [],
            "image/png": {
              "width": 420,
              "height": 420
            },
            "text/plain": {
              "width": 420,
              "height": 420
            }
          }
        },
        {
          "output_type": "display_data",
          "data": {
            "text/plain": [
              "hyouhonVar_over200\n",
              "   0    1 \n",
              "9814  186 "
            ]
          },
          "metadata": {
            "tags": []
          }
        },
        {
          "output_type": "display_data",
          "data": {
            "text/plain": [
              "huhenVar_over200\n",
              "   0    1 \n",
              "9620  380 "
            ]
          },
          "metadata": {
            "tags": []
          }
        },
        {
          "output_type": "display_data",
          "data": {
            "text/plain": [
              "[1] 9.747992"
            ],
            "text/latex": "9.74799153963859",
            "text/markdown": "9.74799153963859",
            "text/html": [
              "9.74799153963859"
            ]
          },
          "metadata": {
            "tags": []
          }
        },
        {
          "output_type": "display_data",
          "data": {
            "image/png": "[encoded data removed]",
            "text/plain": [
              "Plot with title “Histogram of huhen_var”"
            ]
          },
          "metadata": {
            "tags": [],
            "image/png": {
              "width": 420,
              "height": 420
            },
            "text/plain": {
              "width": 420,
              "height": 420
            }
          }
        }
      ]
    },
    {
      "cell_type": "code",
      "metadata": {
        "id": "eumC6gOR_i-M",
        "colab_type": "code",
        "outputId": "667f0bab-aa18-4600-f85e-d5fe7543aeca",
        "colab": {
          "base_uri": "https://localhost:8080/",
          "height": 925
        }
      },
      "source": [
        "# 中央値の標本分布\n",
        "\n",
        "samples_ave <- numeric(length=10000)\n",
        "samples_med <- numeric(length=10000)\n",
        "for (i in 1:10000){\n",
        "  samples <- rnorm(n=10, mean=50, sd=10)\n",
        "  samples_ave[i] <- mean(samples)\n",
        "  samples_med[i] <- median(samples)\n",
        "}\n",
        "\n",
        "mean(samples_ave)\n",
        "mean(samples_med)\n",
        "\n",
        "sd(samples_ave)\n",
        "sd(samples_med)\n",
        "\n",
        "hist(samples_ave)\n",
        "hist(samples_med)\n"
      ],
      "execution_count": 0,
      "outputs": [
        {
          "output_type": "display_data",
          "data": {
            "text/plain": [
              "[1] 49.94867"
            ],
            "text/latex": "49.9486730347817",
            "text/markdown": "49.9486730347817",
            "text/html": [
              "49.9486730347817"
            ]
          },
          "metadata": {
            "tags": []
          }
        },
        {
          "output_type": "display_data",
          "data": {
            "text/plain": [
              "[1] 49.93648"
            ],
            "text/latex": "49.9364779184171",
            "text/markdown": "49.9364779184171",
            "text/html": [
              "49.9364779184171"
            ]
          },
          "metadata": {
            "tags": []
          }
        },
        {
          "output_type": "display_data",
          "data": {
            "text/plain": [
              "[1] 3.155435"
            ],
            "text/latex": "3.15543506643605",
            "text/markdown": "3.15543506643605",
            "text/html": [
              "3.15543506643605"
            ]
          },
          "metadata": {
            "tags": []
          }
        },
        {
          "output_type": "display_data",
          "data": {
            "text/plain": [
              "[1] 3.726966"
            ],
            "text/latex": "3.72696581304714",
            "text/markdown": "3.72696581304714",
            "text/html": [
              "3.72696581304714"
            ]
          },
          "metadata": {
            "tags": []
          }
        },
        {
          "output_type": "display_data",
          "data": {
            "image/png": "[encoded data removed]",
            "text/plain": [
              "Plot with title “Histogram of samples_ave”"
            ]
          },
          "metadata": {
            "tags": [],
            "image/png": {
              "width": 420,
              "height": 420
            },
            "text/plain": {
              "width": 420,
              "height": 420
            }
          }
        },
        {
          "output_type": "display_data",
          "data": {
            "image/png": "[encoded data removed]",
            "text/plain": [
              "Plot with title “Histogram of samples_med”"
            ]
          },
          "metadata": {
            "tags": [],
            "image/png": {
              "width": 420,
              "height": 420
            },
            "text/plain": {
              "width": 420,
              "height": 420
            }
          }
        }
      ]
    },
    {
      "cell_type": "code",
      "metadata": {
        "id": "bz5XLtp_F1dr",
        "colab_type": "code",
        "outputId": "36953407-34b3-428b-c3fe-5cc8bbf1f449",
        "colab": {
          "base_uri": "https://localhost:8080/",
          "height": 471
        }
      },
      "source": [
        "# 練習問題(1)\n",
        "\n",
        "cnt <-5000\n",
        "samples_ave <- numeric(length=cnt)\n",
        "for (i in 1:cnt){\n",
        "  samples <- rnorm(n=20, mean=50, sd=10)\n",
        "  samples_ave[i] <- mean(samples)\n",
        "}\n",
        "mean(samples_ave)\n",
        "var(samples_ave)\n",
        "\n",
        "hist(samples_ave, freq=FALSE)\n",
        "curve(dnorm(x,mean=50,sd=10/sqrt(20)), add=TRUE )"
      ],
      "execution_count": 0,
      "outputs": [
        {
          "output_type": "display_data",
          "data": {
            "text/plain": [
              "[1] 50.03062"
            ],
            "text/latex": "50.0306204642505",
            "text/markdown": "50.0306204642505",
            "text/html": [
              "50.0306204642505"
            ]
          },
          "metadata": {
            "tags": []
          }
        },
        {
          "output_type": "display_data",
          "data": {
            "text/plain": [
              "[1] 4.999251"
            ],
            "text/latex": "4.99925109008097",
            "text/markdown": "4.99925109008097",
            "text/html": [
              "4.99925109008097"
            ]
          },
          "metadata": {
            "tags": []
          }
        },
        {
          "output_type": "display_data",
          "data": {
            "image/png": "[encoded data removed]",
            "text/plain": [
              "Plot with title “Histogram of samples_ave”"
            ]
          },
          "metadata": {
            "tags": [],
            "image/png": {
              "width": 420,
              "height": 420
            },
            "text/plain": {
              "width": 420,
              "height": 420
            }
          }
        }
      ]
    },
    {
      "cell_type": "code",
      "metadata": {
        "id": "vi5ZXaKAKRlz",
        "colab_type": "code",
        "outputId": "83f22118-ced7-4b64-aee6-9767d2352a18",
        "colab": {
          "base_uri": "https://localhost:8080/",
          "height": 1000
        }
      },
      "source": [
        "# 練習問題(2)\n",
        "for (i in 1:5){\n",
        "  samples <- rnorm(n=i^2, mean=0, sd=1)\n",
        "  hist(samples)\n",
        "}\n",
        "\n",
        "curve( dnorm(x, sd=1/i) , from = -4, to=4,) \n",
        "for (i in 1:5){\n",
        "   curve( dnorm(x, sd=1/i) , from = -4, to=4, add=TRUE) \n",
        "}\n"
      ],
      "execution_count": 0,
      "outputs": [
        {
          "output_type": "display_data",
          "data": {
            "image/png": "[encoded data removed]",
            "text/plain": [
              "Plot with title “Histogram of samples”"
            ]
          },
          "metadata": {
            "tags": [],
            "image/png": {
              "width": 420,
              "height": 420
            },
            "text/plain": {
              "width": 420,
              "height": 420
            }
          }
        },
        {
          "output_type": "display_data",
          "data": {
            "image/png": "[encoded data removed]",
            "text/plain": [
              "Plot with title “Histogram of samples”"
            ]
          },
          "metadata": {
            "tags": [],
            "image/png": {
              "width": 420,
              "height": 420
            },
            "text/plain": {
              "width": 420,
              "height": 420
            }
          }
        },
        {
          "output_type": "display_data",
          "data": {
            "image/png": "[encoded data removed]",
            "text/plain": [
              "Plot with title “Histogram of samples”"
            ]
          },
          "metadata": {
            "tags": [],
            "image/png": {
              "width": 420,
              "height": 420
            },
            "text/plain": {
              "width": 420,
              "height": 420
            }
          }
        },
        {
          "output_type": "display_data",
          "data": {
            "image/png": "[encoded data removed]",
            "text/plain": [
              "Plot with title “Histogram of samples”"
            ]
          },
          "metadata": {
            "tags": [],
            "image/png": {
              "width": 420,
              "height": 420
            },
            "text/plain": {
              "width": 420,
              "height": 420
            }
          }
        },
        {
          "output_type": "display_data",
          "data": {
            "image/png": "[encoded data removed]",
            "text/plain": [
              "Plot with title “Histogram of samples”"
            ]
          },
          "metadata": {
            "tags": [],
            "image/png": {
              "width": 420,
              "height": 420
            },
            "text/plain": {
              "width": 420,
              "height": 420
            }
          }
        },
        {
          "output_type": "display_data",
          "data": {
            "image/png": "[encoded data removed]",
            "text/plain": [
              "plot without title"
            ]
          },
          "metadata": {
            "tags": [],
            "image/png": {
              "width": 420,
              "height": 420
            },
            "text/plain": {
              "width": 420,
              "height": 420
            }
          }
        }
      ]
    },
    {
      "cell_type": "code",
      "metadata": {
        "id": "cTQ6hbCrMKK4",
        "colab_type": "code",
        "colab": {}
      },
      "source": [
        "#"
      ],
      "execution_count": 0,
      "outputs": []
    },
    {
      "cell_type": "markdown",
      "metadata": {
        "id": "mFi4wmVvOYfx",
        "colab_type": "text"
      },
      "source": [
        "# 第5章　統計的仮説検定"
      ]
    },
    {
      "cell_type": "code",
      "metadata": {
        "id": "kYRmookaOTdl",
        "colab_type": "code",
        "outputId": "c6e3db09-cb5b-4873-d408-86a41d7ee3fb",
        "colab": {
          "base_uri": "https://localhost:8080/",
          "height": 136
        }
      },
      "source": [
        "# 標準正規分布を用いた検定\n",
        "# 1つの平均値による検定　母分散が既知の場合\n",
        "\n",
        "# 母集団：μ=12, sig^2=10 の正規分布とする\n",
        "\n",
        "# 標本\n",
        "var_testShinri <-c(13,14,7,12,10,6,8,15,4,14,9,6,10,12,5,12,8,8,12,15)\n",
        "\n",
        "# この標本は母集団から抽出されたと言えるか？\n",
        "# 平均値を用いた検定を行う\n",
        "\n",
        "# (μ,sig^2)の正規分布の母集団から無作為に抽出された標本の標本平均X'の分布は、(μ, (sig^2)/n )の正規分布に従う\n",
        "# つまり、　X'  ~ N(μ, (sig^2)/n )\n",
        "# これを標準化すると、Z = ( X' - μ ) / ( sig / root(n) )\n",
        "# つまり、Z ~ N(0,1)\n",
        "\n",
        "# 帰無仮説：μ=12 (=母平均は12),\n",
        "# 対立仮説：μ!=12,\n",
        "\n",
        "# 母集団からえられた標本の検定統計量は帰無仮説のもとでZ~N(0,1)に従うはずである。\n",
        "# var_testShinriが母集団からの無作為抽出なら、この標本を計算してえられるZの実現値も平均標本分布の中心あたりでえられるはず。\n",
        "# 実現値が平均標本分布の端っこの確率が低い範囲でえられた場合、大前提として仮定した帰無仮説：μ=12 が正しくない事になる。\n",
        "\n",
        "# 検定統計量Zの実現値を計算\n",
        "Z_bunshi <- mean(var_testShinri) - 12\n",
        "Z_bunshi\n",
        "Z_bunbo <- sqrt(10/length(var_testShinri))\n",
        "Z_bunbo\n",
        "Z_toukeiryou = Z_bunshi / Z_bunbo \n",
        "Z_toukeiryou\n",
        "\n",
        "# 有意水準α= 0.05(両側)\n",
        "\n",
        "# 下側確率0.025, 下側確率0.974(=上側確率0.025) となるZの値を求める\n",
        "qnorm(0.025)\n",
        "qnorm(0.025, lower.tail = FALSE)\n",
        "\n",
        "# 以上より、帰無仮説：μ=12,は棄却される\n",
        "# 対立仮説：μ!=12 が言えるので、標本は母集団：μ=12, sig^2=10 の正規分布から無作為抽出されたものではない。\n",
        "\n",
        "# p値（検定統計量以上/以下の値がえられる確率）を直接計算することも可能\n",
        "pnorm(-2.8284) # 下側確率\n",
        "pnorm(2.8284, lower.tail = FALSE) # 上側確率\n",
        "# 両側の有意水準が0.05なので、片側は0.025\n",
        "# p値は両側ともこれより小さいので、帰無仮説は棄却される。\n"
      ],
      "execution_count": 0,
      "outputs": [
        {
          "output_type": "display_data",
          "data": {
            "text/plain": [
              "[1] -2"
            ],
            "text/latex": "-2",
            "text/markdown": "-2",
            "text/html": [
              "-2"
            ]
          },
          "metadata": {
            "tags": []
          }
        },
        {
          "output_type": "display_data",
          "data": {
            "text/plain": [
              "[1] 0.7071068"
            ],
            "text/latex": "0.707106781186548",
            "text/markdown": "0.707106781186548",
            "text/html": [
              "0.707106781186548"
            ]
          },
          "metadata": {
            "tags": []
          }
        },
        {
          "output_type": "display_data",
          "data": {
            "text/plain": [
              "[1] -2.828427"
            ],
            "text/latex": "-2.82842712474619",
            "text/markdown": "-2.82842712474619",
            "text/html": [
              "-2.82842712474619"
            ]
          },
          "metadata": {
            "tags": []
          }
        },
        {
          "output_type": "display_data",
          "data": {
            "text/plain": [
              "[1] -1.959964"
            ],
            "text/latex": "-1.95996398454005",
            "text/markdown": "-1.95996398454005",
            "text/html": [
              "-1.95996398454005"
            ]
          },
          "metadata": {
            "tags": []
          }
        },
        {
          "output_type": "display_data",
          "data": {
            "text/plain": [
              "[1] 1.959964"
            ],
            "text/latex": "1.95996398454005",
            "text/markdown": "1.95996398454005",
            "text/html": [
              "1.95996398454005"
            ]
          },
          "metadata": {
            "tags": []
          }
        },
        {
          "output_type": "display_data",
          "data": {
            "text/plain": [
              "[1] 0.002339066"
            ],
            "text/latex": "0.0023390656954666",
            "text/markdown": "0.0023390656954666",
            "text/html": [
              "0.0023390656954666"
            ]
          },
          "metadata": {
            "tags": []
          }
        },
        {
          "output_type": "display_data",
          "data": {
            "text/plain": [
              "[1] 0.002339066"
            ],
            "text/latex": "0.0023390656954666",
            "text/markdown": "0.0023390656954666",
            "text/html": [
              "0.0023390656954666"
            ]
          },
          "metadata": {
            "tags": []
          }
        }
      ]
    },
    {
      "cell_type": "code",
      "metadata": {
        "id": "aVo0mjIXiAJR",
        "colab_type": "code",
        "outputId": "8b0cb522-82ef-4a6f-e6c6-0f246864ee38",
        "colab": {
          "base_uri": "https://localhost:8080/",
          "height": 323
        }
      },
      "source": [
        "# t分布を用いた検定\n",
        "# 1つの平均値による検定　母分散が未知の場合\n",
        "\n",
        "# 母集団：μ=12, sig^2=？ の正規分布とする\n",
        "\n",
        "# 標本\n",
        "var_testShinri <-c(13,14,7,12,10,6,8,15,4,14,9,6,10,12,5,12,8,8,12,15)\n",
        "\n",
        "# この標本は母集団から抽出されたと言えるか？\n",
        "# 平均値を用いた検定を行う\n",
        "\n",
        "\n",
        "# (μ,？)の正規分布の母集団から無作為に標本抽出するとき、\n",
        "# この標本から計算される検定統計量 t = ( X' - μ ) / ( sig' / root(n) ) （sig' : 標本から求められる不偏分散）は\n",
        "# 自由度n-1のt分布に従う\n",
        "# つまり、t ~ t(n-1)\n",
        "\n",
        "# 帰無仮説：μ=12 (=母平均は12),\n",
        "# 対立仮説：μ!=12,\n",
        "\n",
        "# 母集団からえられた標本の検定統計量は帰無仮説のもとでt(n-1)に従うはずである。\n",
        "# var_testShinriが母集団からの無作為抽出なら、この標本を計算してえられるtの実現値もt(n-1)分布の中心あたりでえられるはず。\n",
        "# 実現値が平均標本分布の端っこの確率が低い範囲でえられた場合、大前提として仮定した帰無仮説：μ=12 が正しくない事になる。\n",
        "\n",
        "# 検定統計量tの実現値を計算\n",
        "t_bunshi <- mean(var_testShinri) - 12\n",
        "t_bunshi\n",
        "t_bunbo <- sqrt( var(var_testShinri) / length(var_testShinri) )\n",
        "t_bunbo\n",
        "t_toukeiryou = t_bunshi / t_bunbo \n",
        "t_toukeiryou\n",
        "\n",
        "# 有意水準α= 0.05(両側)\n",
        "\n",
        "# 下側確率0.025, 下側確率0.974(=上側確率0.025) となるtの値を求める\n",
        "qt(0.025, length(var_testShinri)-1)\n",
        "qt(0.025, length(var_testShinri)-1, lower.tail = FALSE)\n",
        "\n",
        "# 以上より、帰無仮説：μ=12,は棄却される\n",
        "# 対立仮説：μ!=12 が言えるので、標本は母集団：μ=12, sig^2=? の正規分布から無作為抽出されたものではない。\n",
        "\n",
        "# p値（検定統計量以上/以下の値がえられる確率）を直接計算することも可能\n",
        "pt(-2.61664801737774, length(var_testShinri)-1) # 下側確率\n",
        "# 両側の有意水準が0.05なので、片側は0.025\n",
        "# p値は両側ともこれより小さいので、帰無仮説は棄却される。\n",
        "\n",
        "\n",
        "# Rの関数でもt検定できます。\n",
        "t.test(var_testShinri, mu=12)"
      ],
      "execution_count": 0,
      "outputs": [
        {
          "output_type": "display_data",
          "data": {
            "text/plain": [
              "[1] -2"
            ],
            "text/latex": "-2",
            "text/markdown": "-2",
            "text/html": [
              "-2"
            ]
          },
          "metadata": {
            "tags": []
          }
        },
        {
          "output_type": "display_data",
          "data": {
            "text/plain": [
              "[1] 0.7643367"
            ],
            "text/latex": "0.764336657707708",
            "text/markdown": "0.764336657707708",
            "text/html": [
              "0.764336657707708"
            ]
          },
          "metadata": {
            "tags": []
          }
        },
        {
          "output_type": "display_data",
          "data": {
            "text/plain": [
              "[1] -2.616648"
            ],
            "text/latex": "-2.61664801737774",
            "text/markdown": "-2.61664801737774",
            "text/html": [
              "-2.61664801737774"
            ]
          },
          "metadata": {
            "tags": []
          }
        },
        {
          "output_type": "display_data",
          "data": {
            "text/plain": [
              "[1] -2.093024"
            ],
            "text/latex": "-2.09302405440831",
            "text/markdown": "-2.09302405440831",
            "text/html": [
              "-2.09302405440831"
            ]
          },
          "metadata": {
            "tags": []
          }
        },
        {
          "output_type": "display_data",
          "data": {
            "text/plain": [
              "[1] 2.093024"
            ],
            "text/latex": "2.09302405440831",
            "text/markdown": "2.09302405440831",
            "text/html": [
              "2.09302405440831"
            ]
          },
          "metadata": {
            "tags": []
          }
        },
        {
          "output_type": "display_data",
          "data": {
            "text/plain": [
              "[1] 0.00848546"
            ],
            "text/latex": "0.00848546013478167",
            "text/markdown": "0.00848546013478167",
            "text/html": [
              "0.00848546013478167"
            ]
          },
          "metadata": {
            "tags": []
          }
        },
        {
          "output_type": "display_data",
          "data": {
            "text/plain": [
              "[1] 0.00848546"
            ],
            "text/latex": "0.00848546013478167",
            "text/markdown": "0.00848546013478167",
            "text/html": [
              "0.00848546013478167"
            ]
          },
          "metadata": {
            "tags": []
          }
        },
        {
          "output_type": "display_data",
          "data": {
            "text/plain": [
              "\n",
              "\tOne Sample t-test\n",
              "\n",
              "data:  var_testShinri\n",
              "t = -2.6166, df = 19, p-value = 0.01697\n",
              "alternative hypothesis: true mean is not equal to 12\n",
              "95 percent confidence interval:\n",
              "  8.400225 11.599775\n",
              "sample estimates:\n",
              "mean of x \n",
              "       10 \n"
            ]
          },
          "metadata": {
            "tags": []
          }
        }
      ]
    },
    {
      "cell_type": "code",
      "metadata": {
        "id": "mfd0W-1JuU_9",
        "colab_type": "code",
        "outputId": "4caa97ae-3c6d-4625-f285-3d6e55c53b0a",
        "colab": {
          "base_uri": "https://localhost:8080/",
          "height": 306
        }
      },
      "source": [
        "# 無相関検定\n",
        "\n",
        "# 標本\n",
        "var_testToukei1 <- c(6,10,6,10,5,3,5,9,3,3,11,6,11,9,7,5,8,7,7,9)\n",
        "var_testToukei2 <- c(10,13,8,15,8,6,9,10,7,3,18,14,18,11,12,5,7,12,7,7)\n",
        "\n",
        "# この標本の母集団には相関があると言えるか？\n",
        "# 相関係数を用いた検定を行う\n",
        "\n",
        "# 相関係数が0でない母集団どうしから無作為抽出した標本どうしの相関係数をrとすると、\n",
        "# t = r{root(n-2)} / root(1-r^2) は帰無仮説のもとで自由度n-2のt分布に従う\n",
        "# つまり、t ~ t(n-2)\n",
        "\n",
        "# 帰無仮説：ρ=0 (=母相関の相関係数は0)\n",
        "# 対立仮説：ρ!=0,\n",
        "\n",
        "# 母集団からえられた標本の検定統計量は帰無仮説のもとでt(n-2)に従うはずである。\n",
        "sample_cor <- cor(var_testToukei1,var_testToukei2)\n",
        "sample_cor\n",
        "sample_n <- length(var_testToukei1)\n",
        "sample_n\n",
        "t_toukeiryou = sample_cor * sqrt(sample_n-2) / sqrt(1- sample_cor^2 )\n",
        "t_toukeiryou\n",
        "\n",
        "\n",
        "# 有意水準α= 0.05(両側)\n",
        "\n",
        "# 下側確率0.025, 下側確率0.974(=上側確率0.025) となるtの値を求める\n",
        "qt(0.025, sample_n-2)\n",
        "qt(0.025, sample_n-2, lower.tail = FALSE)\n",
        "\n",
        "# 以上より、帰無仮説：ρ=0,は棄却される\n",
        "# 対立仮説：ρ!=0 が言えるので、標本は母集団：μ=12, sig^2=? の正規分布から無作為抽出されたものではない。\n",
        "\n",
        "# p値（検定統計量以上/以下の値がえられる確率）を直接計算することも可能\n",
        "pt(4.80570675334372, sample_n-2 ,lower.tail = FALSE) # 上側確率\n",
        "# 両側の有意水準が0.05なので、片側は0.025\n",
        "# p値は両側ともこれより小さいので、帰無仮説は棄却される。\n",
        "\n",
        "\n",
        "# Rの関数でもt検定できます。\n",
        "cor.test(var_testToukei1,var_testToukei2)"
      ],
      "execution_count": 0,
      "outputs": [
        {
          "output_type": "display_data",
          "data": {
            "text/plain": [
              "[1] 0.749659"
            ],
            "text/latex": "0.749658964824245",
            "text/markdown": "0.749658964824245",
            "text/html": [
              "0.749658964824245"
            ]
          },
          "metadata": {
            "tags": []
          }
        },
        {
          "output_type": "display_data",
          "data": {
            "text/plain": [
              "[1] 20"
            ],
            "text/latex": "20",
            "text/markdown": "20",
            "text/html": [
              "20"
            ]
          },
          "metadata": {
            "tags": []
          }
        },
        {
          "output_type": "display_data",
          "data": {
            "text/plain": [
              "[1] 4.805707"
            ],
            "text/latex": "4.80570675334372",
            "text/markdown": "4.80570675334372",
            "text/html": [
              "4.80570675334372"
            ]
          },
          "metadata": {
            "tags": []
          }
        },
        {
          "output_type": "display_data",
          "data": {
            "text/plain": [
              "[1] -2.100922"
            ],
            "text/latex": "-2.10092204024104",
            "text/markdown": "-2.10092204024104",
            "text/html": [
              "-2.10092204024104"
            ]
          },
          "metadata": {
            "tags": []
          }
        },
        {
          "output_type": "display_data",
          "data": {
            "text/plain": [
              "[1] 2.100922"
            ],
            "text/latex": "2.10092204024104",
            "text/markdown": "2.10092204024104",
            "text/html": [
              "2.10092204024104"
            ]
          },
          "metadata": {
            "tags": []
          }
        },
        {
          "output_type": "display_data",
          "data": {
            "text/plain": [
              "[1] 7.081144e-05"
            ],
            "text/latex": "7.08114407772407e-05",
            "text/markdown": "7.08114407772407e-05",
            "text/html": [
              "7.08114407772407e-05"
            ]
          },
          "metadata": {
            "tags": []
          }
        },
        {
          "output_type": "display_data",
          "data": {
            "text/plain": [
              "\n",
              "\tPearson's product-moment correlation\n",
              "\n",
              "data:  var_testToukei1 and var_testToukei2\n",
              "t = 4.8057, df = 18, p-value = 0.0001416\n",
              "alternative hypothesis: true correlation is not equal to 0\n",
              "95 percent confidence interval:\n",
              " 0.4596086 0.8952048\n",
              "sample estimates:\n",
              "     cor \n",
              "0.749659 \n"
            ]
          },
          "metadata": {
            "tags": []
          }
        }
      ]
    },
    {
      "cell_type": "code",
      "metadata": {
        "id": "P5QbfOgf7kTz",
        "colab_type": "code",
        "outputId": "c1c23df6-49a6-4ac1-9284-343ed0518e90",
        "colab": {
          "base_uri": "https://localhost:8080/",
          "height": 272
        }
      },
      "source": [
        "# カイ二乗検定\n",
        "\n",
        "# 標本\n",
        "var_math <- c(\"kirai\",\"kirai\",\"suki\",\"suki\",\"suki\",\"kirai\",\"kirai\",\"kirai\",\"kirai\",\"kirai\",\"suki\",\"kirai\",\"suki\",\"kirai\",\"kirai\",\"suki\",\"kirai\",\"kirai\",\"kirai\",\"kirai\")\n",
        "var_toukei <- c( \"suki\",\"suki\",\"suki\",\"suki\", \"kirai\",\"kirai\",\"kirai\",\"kirai\",\"kirai\",\"kirai\", \"suki\",\"suki\",\"suki\",\"kirai\",\"suki\",\"kirai\",\"kirai\",\"kirai\",\"kirai\",\"kirai\")\n",
        "table(var_math,var_toukei)\n",
        "# なんとなく01にもしておく\n",
        "math_bin <- ifelse(var_math==\"suki\",1,0)\n",
        "toukei_bin <- ifelse(var_toukei==\"suki\",1,0)\n",
        "\n",
        "# この標本の母集団には連関があると言えるか？\n",
        "# カイ二乗分布を用いた検定を行う\n",
        "\n",
        "# 連関のない母集団どうしから無作為抽出した標本どうしについて、\n",
        "# χ^2 = 各集計表のセルの { ( 観測度数 - 期待度数 )^2 / 期待度数 } の総和をとった値 は\n",
        "# 帰無仮説のもとで自由度（集計表の行数-1 × 列数-1）のカイ二乗分布に従う\n",
        "# つまり、χ^2 ~ χ^2(集計表の行数-1 × 列数-1)\n",
        "# ここで「期待度数」とは帰無仮説（＝母集団の連関がない）のもとで期待される度数のことで、\n",
        "# セルの行の周辺度数×列の周辺度数 / 総度数　となる\n",
        "\n",
        "# 帰無仮説：2変数は独立である\n",
        "# 対立仮説：2変数は独立でない（＝連関がある）\n",
        "\n",
        "# 母集団からえられた標本の検定統計量χ^2は\n",
        "# 帰無仮説のもとでχ^2(集計表の行数-1 × 列数-1)に従うはずである。\n",
        "\n",
        "# 期待度数の算出\n",
        "exFreq_11 <- 12*14/20\n",
        "exFreq_21 <- 12*6/20\n",
        "exFreq_12 <- 8*14/20\n",
        "exFreq_22 <- 8*6/20\n",
        "exFreq <- c(exFreq_11, exFreq_21, exFreq_12, exFreq_22)\n",
        "exFreq\n",
        "# 観測度数\n",
        "obsFreq <- c(10,2,4,4)\n",
        "\n",
        "# カイ二乗値の計算\n",
        "elem_kai2jou <- ( exFreq - obsFreq )^2 / exFreq\n",
        "kai2jou <- sum(elem_kai2jou)\n",
        "kai2jou\n",
        "\n",
        "# 有意水準α= 0.05(片側)\n",
        "\n",
        "# 下側確率0.95(=上側確率0.05) となるχ^2の値を求める\n",
        "qchisq(0.05, 1, lower.tail = FALSE)\n",
        "\n",
        "# 以上より、帰無仮説：2変数は独立である は棄却されない\n",
        "# 対立仮説：2変数は独立でない が言えないので、標本は母集団に連関があるとは言えない。\n",
        "\n",
        "# p値（検定統計量以上/以下の値がえられる確率）を直接計算することも可能\n",
        "pchisq(2.53968253968254, 1 ,lower.tail = FALSE) # 上側確率\n",
        "# 両側の有意水準が0.05で、p値はこれより大きいので帰無仮説は棄却されない。\n",
        "\n",
        "\n",
        "# Rの関数でもカイ二乗検定できます。\n",
        "cross_table <- table(var_math,var_toukei)\n",
        "chisq.test(cross_table, correct=FALSE)"
      ],
      "execution_count": 0,
      "outputs": [
        {
          "output_type": "display_data",
          "data": {
            "text/plain": [
              "        var_toukei\n",
              "var_math kirai suki\n",
              "   kirai    10    4\n",
              "   suki      2    4"
            ]
          },
          "metadata": {
            "tags": []
          }
        },
        {
          "output_type": "display_data",
          "data": {
            "text/plain": [
              "[1] 8.4 3.6 5.6 2.4"
            ],
            "text/latex": "\\begin{enumerate*}\n\\item 8.4\n\\item 3.6\n\\item 5.6\n\\item 2.4\n\\end{enumerate*}\n",
            "text/markdown": "1. 8.4\n2. 3.6\n3. 5.6\n4. 2.4\n\n\n",
            "text/html": [
              "<style>\n",
              ".list-inline {list-style: none; margin:0; padding: 0}\n",
              ".list-inline>li {display: inline-block}\n",
              ".list-inline>li:not(:last-child)::after {content: \"\\00b7\"; padding: 0 .5ex}\n",
              "</style>\n",
              "<ol class=list-inline><li>8.4</li><li>3.6</li><li>5.6</li><li>2.4</li></ol>\n"
            ]
          },
          "metadata": {
            "tags": []
          }
        },
        {
          "output_type": "display_data",
          "data": {
            "text/plain": [
              "[1] 2.539683"
            ],
            "text/latex": "2.53968253968254",
            "text/markdown": "2.53968253968254",
            "text/html": [
              "2.53968253968254"
            ]
          },
          "metadata": {
            "tags": []
          }
        },
        {
          "output_type": "display_data",
          "data": {
            "text/plain": [
              "[1] 3.841459"
            ],
            "text/latex": "3.84145882069413",
            "text/markdown": "3.84145882069413",
            "text/html": [
              "3.84145882069413"
            ]
          },
          "metadata": {
            "tags": []
          }
        },
        {
          "output_type": "display_data",
          "data": {
            "text/plain": [
              "[1] 0.1110171"
            ],
            "text/latex": "0.111017105512186",
            "text/markdown": "0.111017105512186",
            "text/html": [
              "0.111017105512186"
            ]
          },
          "metadata": {
            "tags": []
          }
        },
        {
          "output_type": "stream",
          "text": [
            "Warning message in chisq.test(cross_table, correct = FALSE):\n",
            "“Chi-squared approximation may be incorrect”\n"
          ],
          "name": "stderr"
        },
        {
          "output_type": "display_data",
          "data": {
            "text/plain": [
              "\n",
              "\tPearson's Chi-squared test\n",
              "\n",
              "data:  cross_table\n",
              "X-squared = 2.5397, df = 1, p-value = 0.111\n"
            ]
          },
          "metadata": {
            "tags": []
          }
        }
      ]
    },
    {
      "cell_type": "code",
      "metadata": {
        "id": "cFrp4tmZAP0u",
        "colab_type": "code",
        "outputId": "4346d432-40a9-4664-8530-f03376fee200",
        "colab": {
          "base_uri": "https://localhost:8080/",
          "height": 419
        }
      },
      "source": [
        "# サンプルサイズの影響\n",
        "\n",
        "# 履修データA　自由度は1\n",
        "courseA <- matrix(c(16,12,4,8), 2, 2 )\n",
        "rownames(courseA) <- c(\"bunkei\", \"rikei\")\n",
        "colnames(courseA) <- c(\"T\", \"F\")\n",
        "courseA\n",
        "\n",
        "# 有意水準0.05の時の棄却域\n",
        "qchisq(0.05, 1, lower.tail=FALSE)\n",
        "\n",
        "# 検定実行\n",
        "chisq.test(courseA,correct=FALSE)\n",
        " \n",
        " # p値 > 有意水準なので帰無仮説は棄却されない（＝相関があるとは言えない）\n",
        "\n",
        "\n",
        "# 履修データB(Aの10倍のサンプルをとった)　自由度は1\n",
        "courseB <- matrix(c(160,120,40,80), 2, 2 )\n",
        "rownames(courseB) <- c(\"bunkei\", \"rikei\")\n",
        "colnames(courseB) <- c(\"T\", \"F\")\n",
        "courseB\n",
        "\n",
        "# 有意水準0.05の時の棄却域\n",
        "qchisq(0.05, 1, lower.tail=FALSE)\n",
        "\n",
        "# 検定実行\n",
        "chisq.test(courseB,correct=FALSE)\n",
        " \n",
        " # p値 < 有意水準なので帰無仮説は棄却される（＝相関がある）\n",
        "\n",
        "\n"
      ],
      "execution_count": 0,
      "outputs": [
        {
          "output_type": "display_data",
          "data": {
            "text/plain": [
              "       T  F\n",
              "bunkei 16 4\n",
              "rikei  12 8"
            ],
            "text/latex": "A matrix: 2 × 2 of type dbl\n\\begin{tabular}{r|ll}\n  & T & F\\\\\n\\hline\n\tbunkei & 16 & 4\\\\\n\trikei & 12 & 8\\\\\n\\end{tabular}\n",
            "text/markdown": "\nA matrix: 2 × 2 of type dbl\n\n| <!--/--> | T | F |\n|---|---|---|\n| bunkei | 16 | 4 |\n| rikei | 12 | 8 |\n\n",
            "text/html": [
              "<table>\n",
              "<caption>A matrix: 2 × 2 of type dbl</caption>\n",
              "<thead>\n",
              "\t<tr><th></th><th scope=col>T</th><th scope=col>F</th></tr>\n",
              "</thead>\n",
              "<tbody>\n",
              "\t<tr><th scope=row>bunkei</th><td>16</td><td>4</td></tr>\n",
              "\t<tr><th scope=row>rikei</th><td>12</td><td>8</td></tr>\n",
              "</tbody>\n",
              "</table>\n"
            ]
          },
          "metadata": {
            "tags": []
          }
        },
        {
          "output_type": "display_data",
          "data": {
            "text/plain": [
              "[1] 3.841459"
            ],
            "text/latex": "3.84145882069413",
            "text/markdown": "3.84145882069413",
            "text/html": [
              "3.84145882069413"
            ]
          },
          "metadata": {
            "tags": []
          }
        },
        {
          "output_type": "display_data",
          "data": {
            "text/plain": [
              "\n",
              "\tPearson's Chi-squared test\n",
              "\n",
              "data:  courseA\n",
              "X-squared = 1.9048, df = 1, p-value = 0.1675\n"
            ]
          },
          "metadata": {
            "tags": []
          }
        },
        {
          "output_type": "display_data",
          "data": {
            "text/plain": [
              "       T   F \n",
              "bunkei 160 40\n",
              "rikei  120 80"
            ],
            "text/latex": "A matrix: 2 × 2 of type dbl\n\\begin{tabular}{r|ll}\n  & T & F\\\\\n\\hline\n\tbunkei & 160 & 40\\\\\n\trikei & 120 & 80\\\\\n\\end{tabular}\n",
            "text/markdown": "\nA matrix: 2 × 2 of type dbl\n\n| <!--/--> | T | F |\n|---|---|---|\n| bunkei | 160 | 40 |\n| rikei | 120 | 80 |\n\n",
            "text/html": [
              "<table>\n",
              "<caption>A matrix: 2 × 2 of type dbl</caption>\n",
              "<thead>\n",
              "\t<tr><th></th><th scope=col>T</th><th scope=col>F</th></tr>\n",
              "</thead>\n",
              "<tbody>\n",
              "\t<tr><th scope=row>bunkei</th><td>160</td><td>40</td></tr>\n",
              "\t<tr><th scope=row>rikei</th><td>120</td><td>80</td></tr>\n",
              "</tbody>\n",
              "</table>\n"
            ]
          },
          "metadata": {
            "tags": []
          }
        },
        {
          "output_type": "display_data",
          "data": {
            "text/plain": [
              "[1] 3.841459"
            ],
            "text/latex": "3.84145882069413",
            "text/markdown": "3.84145882069413",
            "text/html": [
              "3.84145882069413"
            ]
          },
          "metadata": {
            "tags": []
          }
        },
        {
          "output_type": "display_data",
          "data": {
            "text/plain": [
              "\n",
              "\tPearson's Chi-squared test\n",
              "\n",
              "data:  courseB\n",
              "X-squared = 19.048, df = 1, p-value = 1.275e-05\n"
            ]
          },
          "metadata": {
            "tags": []
          }
        }
      ]
    },
    {
      "cell_type": "code",
      "metadata": {
        "id": "eQ1kovDhMENN",
        "colab_type": "code",
        "outputId": "0a99ea96-c726-4068-f61a-cbed5214988a",
        "colab": {
          "base_uri": "https://localhost:8080/",
          "height": 1000
        }
      },
      "source": [
        "#練習問題\n",
        "\n",
        "#(1) t検定\n",
        "print(\"ex_1 \")\n",
        "# t分布を用いた検定\n",
        "# 1つの平均値による検定　母分散が未知の場合\n",
        "# 母集団：μ=170, sig^2=？ の正規分布とする\n",
        "\n",
        "data_ex1 <- c(165,150,170,168,159,170,167,178,155,159, 161,162,166,171,155,160,168,172,155,167)\n",
        "mean(data_ex1)\n",
        "\n",
        "# この標本は母集団から抽出されたと言えるか？\n",
        "# t検定を行う\n",
        "# 帰無仮説：μ=170\n",
        "# 対立仮説：μ!=170\n",
        "\n",
        "# 有意水準α= 0.05(両側)とする\n",
        "# 下側確率0.025, 下側確率0.974(=上側確率0.025) となるtの値を求める\n",
        "qt(0.025, length(data_ex1)-1)\n",
        "qt(0.025, length(data_ex1)-1, lower.tail = FALSE)\n",
        "\n",
        "# 検定\n",
        "t.test(data_ex1, mu=170)\n",
        "print(\"\")\n",
        "\n",
        "# 以上より、帰無仮説：μ=170,は棄却される\n",
        "# 対立仮説：μ!=170 が言えるので、標本は母集団：μ=170, sig^2=? の正規分布から無作為抽出されたものではない。\n",
        "\n",
        "\n",
        "#(2) (3) 無相関検定\n",
        "print(\"ex_2 \")\n",
        "# 以下の2データは相関があると言えるだろうか\n",
        "var_study <- c(1,3,10,12,6,3,8,4,1,5)\n",
        "var_point <- c(20,40,100,80,50,50,70,50,10,60)\n",
        "\n",
        "# 無相関検定を行う\n",
        "# 帰無仮説：相関なし\n",
        "# 対立仮説：相関あり\n",
        "\n",
        "# 有意水準α= 0.05(両側)とする\n",
        "# 下側確率0.025, 下側確率0.974(=上側確率0.025) となるtの値を求める\n",
        "qt(0.025, length(var_study)-2)\n",
        "qt(0.025, length(var_study)-2, lower.tail = FALSE)\n",
        "\n",
        "# 検定 ピアソンの積率相関係数による\n",
        "cor.test(var_study,var_point)\n",
        "# 検定 スピアマンの順位相関係数による\n",
        "cor.test(var_study,var_point, method = \"spearman\" )\n",
        "# 検定 ケンドールの順位相関係数による\n",
        "cor.test(var_study,var_point, method = \"kendall\" )\n",
        "print(\"\")\n",
        "\n",
        "# 以上より、帰無仮説は棄却される\n",
        "# 対立仮説が言えるので、母集団においても勉強時間と得点の間には相関があると言える。\n",
        "\n",
        "\n",
        "\n",
        "#(4) カイ二乗検定\n",
        "print(\"ex_4 \")\n",
        "# 以下の2データは連関があると言えるだろうか\n",
        "var_wayou <- c(\"Y\",\"W\",\"W\",\"Y\",\"W\",\"Y\",\"Y\",\"W\",\"Y\",\"Y\",\"W\",\"Y\",\"W\",\"Y\",\"W\",\"W\",\"Y\",\"Y\",\"W\",\"W\")\n",
        "var_amakara <- c(\"A\",\"K\",\"A\",\"A\",\"K\",\"K\",\"K\",\"K\",\"A\",\"A\",\"A\",\"A\",\"K\",\"K\",\"A\",\"K\",\"K\",\"A\",\"K\",\"K\")\n",
        "table_ex4 <- table(var_wayou,var_amakara)\n",
        "\n",
        "# 有意水準α= 0.05(両側)とする\n",
        "# 下側確率0.95(=上側確率0.05) となる検定料の値を求める\n",
        "qchisq(0.05, 1,lower.tail = FALSE)\n",
        "\n",
        "# 検定\n",
        "chisq.test(table_ex4, correct = FALSE)\n",
        "print(\"\")\n",
        "\n",
        "# 以上より、帰無仮説は棄却されない\n",
        "# 母集団において和洋食派と甘辛党に連関があるとは言えない。\n",
        "\n",
        "\n",
        "\n",
        "#(5-1) 無相関検定　再び\n",
        "print(\"ex_5-1 \")\n",
        "# 以下の2データは相関があると言えるだろうか\n",
        "kokugo1 <- c(60,40,30,70,55)\n",
        "shakai1 <- c(80, 25, 35, 70, 50)\n",
        "\n",
        "# 無相関検定を行う\n",
        "# 帰無仮説：相関なし\n",
        "# 対立仮説：相関あり\n",
        "\n",
        "# 有意水準α= 0.05(両側)とする\n",
        "# 下側確率0.025, 下側確率0.974(=上側確率0.025) となるtの値を求める\n",
        "qt(0.025, length(kokugo1)-2)\n",
        "qt(0.025, length(kokugo1)-2, lower.tail = FALSE)\n",
        "\n",
        "# 検定 ピアソンの積率相関係数による\n",
        "cor.test(kokugo1,shakai1)\n",
        "print(\"\")\n",
        "\n",
        "# 以上より、帰無仮説は棄却されない\n",
        "# 母集団においても国語と社会の得点の間には相関があるとは言えない。\n",
        "\n",
        "\n",
        "#(5-2) 無相関検定　再び\n",
        "print(\"ex_5-2 \")\n",
        "# 以下の2データは相関があると言えるだろうか\n",
        "kokugo2 <- rep(kokugo1,2)\n",
        "shakai2 <- rep(shakai1,2)\n",
        "\n",
        "# 無相関検定を行う\n",
        "# 帰無仮説：相関なし\n",
        "# 対立仮説：相関あり\n",
        "\n",
        "# 有意水準α= 0.05(両側)とする\n",
        "# 下側確率0.025, 下側確率0.974(=上側確率0.025) となるtの値を求める\n",
        "qt(0.025, length(kokugo2)-2)\n",
        "qt(0.025, length(kokugo2)-2, lower.tail = FALSE)\n",
        "\n",
        "# 検定 ピアソンの積率相関係数による\n",
        "cor.test(kokugo2,shakai2)\n",
        "print(\"\")\n",
        "\n",
        "# 以上より、帰無仮説は棄却される\n",
        "# 対立仮説が言えるので、母集団においても国語と社会の得点の間には相関があると言える。\n",
        "\n",
        "\n",
        "\n",
        "\n",
        "\n"
      ],
      "execution_count": 0,
      "outputs": [
        {
          "output_type": "stream",
          "text": [
            "[1] \"ex_1 \"\n"
          ],
          "name": "stdout"
        },
        {
          "output_type": "display_data",
          "data": {
            "text/plain": [
              "[1] 163.9"
            ],
            "text/latex": "163.9",
            "text/markdown": "163.9",
            "text/html": [
              "163.9"
            ]
          },
          "metadata": {
            "tags": []
          }
        },
        {
          "output_type": "display_data",
          "data": {
            "text/plain": [
              "[1] -2.093024"
            ],
            "text/latex": "-2.09302405440831",
            "text/markdown": "-2.09302405440831",
            "text/html": [
              "-2.09302405440831"
            ]
          },
          "metadata": {
            "tags": []
          }
        },
        {
          "output_type": "display_data",
          "data": {
            "text/plain": [
              "[1] 2.093024"
            ],
            "text/latex": "2.09302405440831",
            "text/markdown": "2.09302405440831",
            "text/html": [
              "2.09302405440831"
            ]
          },
          "metadata": {
            "tags": []
          }
        },
        {
          "output_type": "display_data",
          "data": {
            "text/plain": [
              "\n",
              "\tOne Sample t-test\n",
              "\n",
              "data:  data_ex1\n",
              "t = -3.8503, df = 19, p-value = 0.001079\n",
              "alternative hypothesis: true mean is not equal to 170\n",
              "95 percent confidence interval:\n",
              " 160.584 167.216\n",
              "sample estimates:\n",
              "mean of x \n",
              "    163.9 \n"
            ]
          },
          "metadata": {
            "tags": []
          }
        },
        {
          "output_type": "stream",
          "text": [
            "[1] \"\"\n",
            "[1] \"ex_2 \"\n"
          ],
          "name": "stdout"
        },
        {
          "output_type": "display_data",
          "data": {
            "text/plain": [
              "[1] -2.306004"
            ],
            "text/latex": "-2.30600413520417",
            "text/markdown": "-2.30600413520417",
            "text/html": [
              "-2.30600413520417"
            ]
          },
          "metadata": {
            "tags": []
          }
        },
        {
          "output_type": "display_data",
          "data": {
            "text/plain": [
              "[1] 2.306004"
            ],
            "text/latex": "2.30600413520417",
            "text/markdown": "2.30600413520417",
            "text/html": [
              "2.30600413520417"
            ]
          },
          "metadata": {
            "tags": []
          }
        },
        {
          "output_type": "display_data",
          "data": {
            "text/plain": [
              "\n",
              "\tPearson's product-moment correlation\n",
              "\n",
              "data:  var_study and var_point\n",
              "t = 6.1802, df = 8, p-value = 0.0002651\n",
              "alternative hypothesis: true correlation is not equal to 0\n",
              "95 percent confidence interval:\n",
              " 0.6542283 0.9786369\n",
              "sample estimates:\n",
              "      cor \n",
              "0.9092974 \n"
            ]
          },
          "metadata": {
            "tags": []
          }
        },
        {
          "output_type": "stream",
          "text": [
            "Warning message in cor.test.default(var_study, var_point, method = \"spearman\"):\n",
            "“Cannot compute exact p-value with ties”\n"
          ],
          "name": "stderr"
        },
        {
          "output_type": "display_data",
          "data": {
            "text/plain": [
              "\n",
              "\tSpearman's rank correlation rho\n",
              "\n",
              "data:  var_study and var_point\n",
              "S = 10.182, p-value = 5.887e-05\n",
              "alternative hypothesis: true rho is not equal to 0\n",
              "sample estimates:\n",
              "      rho \n",
              "0.9382895 \n"
            ]
          },
          "metadata": {
            "tags": []
          }
        },
        {
          "output_type": "stream",
          "text": [
            "Warning message in cor.test.default(var_study, var_point, method = \"kendall\"):\n",
            "“Cannot compute exact p-value with ties”\n"
          ],
          "name": "stderr"
        },
        {
          "output_type": "display_data",
          "data": {
            "text/plain": [
              "\n",
              "\tKendall's rank correlation tau\n",
              "\n",
              "data:  var_study and var_point\n",
              "z = 3.2937, p-value = 0.0009889\n",
              "alternative hypothesis: true tau is not equal to 0\n",
              "sample estimates:\n",
              "      tau \n",
              "0.8471174 \n"
            ]
          },
          "metadata": {
            "tags": []
          }
        },
        {
          "output_type": "stream",
          "text": [
            "[1] \"\"\n",
            "[1] \"ex_4 \"\n"
          ],
          "name": "stdout"
        },
        {
          "output_type": "display_data",
          "data": {
            "text/plain": [
              "[1] 3.841459"
            ],
            "text/latex": "3.84145882069413",
            "text/markdown": "3.84145882069413",
            "text/html": [
              "3.84145882069413"
            ]
          },
          "metadata": {
            "tags": []
          }
        },
        {
          "output_type": "stream",
          "text": [
            "Warning message in chisq.test(table_ex4, correct = FALSE):\n",
            "“Chi-squared approximation may be incorrect”\n"
          ],
          "name": "stderr"
        },
        {
          "output_type": "display_data",
          "data": {
            "text/plain": [
              "\n",
              "\tPearson's Chi-squared test\n",
              "\n",
              "data:  table_ex4\n",
              "X-squared = 1.8182, df = 1, p-value = 0.1775\n"
            ]
          },
          "metadata": {
            "tags": []
          }
        },
        {
          "output_type": "stream",
          "text": [
            "[1] \"\"\n",
            "[1] \"ex_5-1 \"\n"
          ],
          "name": "stdout"
        },
        {
          "output_type": "display_data",
          "data": {
            "text/plain": [
              "[1] -3.182446"
            ],
            "text/latex": "-3.18244630528371",
            "text/markdown": "-3.18244630528371",
            "text/html": [
              "-3.18244630528371"
            ]
          },
          "metadata": {
            "tags": []
          }
        },
        {
          "output_type": "display_data",
          "data": {
            "text/plain": [
              "[1] 3.182446"
            ],
            "text/latex": "3.18244630528371",
            "text/markdown": "3.18244630528371",
            "text/html": [
              "3.18244630528371"
            ]
          },
          "metadata": {
            "tags": []
          }
        },
        {
          "output_type": "display_data",
          "data": {
            "text/plain": [
              "\n",
              "\tPearson's product-moment correlation\n",
              "\n",
              "data:  kokugo1 and shakai1\n",
              "t = 2.6952, df = 3, p-value = 0.07408\n",
              "alternative hypothesis: true correlation is not equal to 0\n",
              "95 percent confidence interval:\n",
              " -0.1590624  0.9892731\n",
              "sample estimates:\n",
              "     cor \n",
              "0.841263 \n"
            ]
          },
          "metadata": {
            "tags": []
          }
        },
        {
          "output_type": "stream",
          "text": [
            "[1] \"\"\n",
            "[1] \"ex_5-2 \"\n"
          ],
          "name": "stdout"
        },
        {
          "output_type": "display_data",
          "data": {
            "text/plain": [
              "[1] -2.306004"
            ],
            "text/latex": "-2.30600413520417",
            "text/markdown": "-2.30600413520417",
            "text/html": [
              "-2.30600413520417"
            ]
          },
          "metadata": {
            "tags": []
          }
        },
        {
          "output_type": "display_data",
          "data": {
            "text/plain": [
              "[1] 2.306004"
            ],
            "text/latex": "2.30600413520417",
            "text/markdown": "2.30600413520417",
            "text/html": [
              "2.30600413520417"
            ]
          },
          "metadata": {
            "tags": []
          }
        },
        {
          "output_type": "display_data",
          "data": {
            "text/plain": [
              "\n",
              "\tPearson's product-moment correlation\n",
              "\n",
              "data:  kokugo2 and shakai2\n",
              "t = 4.4013, df = 8, p-value = 0.002283\n",
              "alternative hypothesis: true correlation is not equal to 0\n",
              "95 percent confidence interval:\n",
              " 0.4499858 0.9615658\n",
              "sample estimates:\n",
              "     cor \n",
              "0.841263 \n"
            ]
          },
          "metadata": {
            "tags": []
          }
        },
        {
          "output_type": "stream",
          "text": [
            "[1] \"\"\n"
          ],
          "name": "stdout"
        }
      ]
    },
    {
      "cell_type": "markdown",
      "metadata": {
        "id": "Sbk5T9jnbh3T",
        "colab_type": "text"
      },
      "source": [
        "# 第6章　2つの平均値を比較する（t検定）"
      ]
    },
    {
      "cell_type": "code",
      "metadata": {
        "id": "Ew7IEsbnbY9F",
        "colab_type": "code",
        "outputId": "bbf5162e-20bb-4122-8ff0-b94c23c4b347",
        "colab": {
          "base_uri": "https://localhost:8080/",
          "height": 493
        }
      },
      "source": [
        "# 独立な2群のt検定\n",
        "\n",
        "# 標本\n",
        "var_toukei1M <-c(6,10,6,10,5,3,5,9,3,3)\n",
        "var_toukei1F <-c(11,6,11,9,7,5,8,7,7,9)\n",
        "\n",
        "# この標本の母集団の平均値に差はあるか？\n",
        "# t検定を行う\n",
        "\n",
        "# 平均値差の標本分布は、(μ1-μ2, sig^2)(1/n1 + 1/n2) )の正規分布に従う\n",
        "# つまり、　X1の平均値 - X2の平均値 ~ N(μ1-μ2, sig^2)(1/n1 + 1/n2) )\n",
        "# これを標準した確率変数X'は正規分布に従う\n",
        "# つまり、X' ~ N(0,1)\n",
        "# なお、この時のsigは2群の重み付き平均である「２群をプールした分散 ：sigp^2 =  { (n1-1)sig1^2 + (n2-1)sig2^2 } / ( n1 + n2 -2 ) 」で推定すると、\n",
        "# この推定結果t はこの標本分布は帰無仮説:μ1=μ2のもとで自由度n1+n2-2 のt分布に従う。\n",
        "# つまり、t ~ t( n1 + n2 -2 )\n",
        "\n",
        "# 帰無仮説：μ1=μ2 (=2群の母平均が等しい),\n",
        "# 対立仮説：μ1!=μ2,\n",
        "\n",
        "# 検定統計量tの実現値を計算\n",
        "poolvar <- sqrt(( (length(var_toukei1M) -1 ) * var(var_toukei1M) + (length(var_toukei1F) -1 ) * var(var_toukei1F) ) / (length(var_toukei1M) + length(var_toukei1F) -2) )\n",
        "t_bunbo <- poolvar * sqrt( 1/length(var_toukei1M) + 1/length(var_toukei1F) )\n",
        "t_bunbo\n",
        "t_bunshi <- mean(var_toukei1M) - mean(var_toukei1F)\n",
        "t_bunshi\n",
        "t_kenteiryo <- t_bunshi / t_bunbo\n",
        "t_kenteiryo\n",
        "\n",
        "# 有意水準α= 0.05(両側)とする\n",
        "# 下側確率0.025, 下側確率0.974(=上側確率0.025) となるZの値を求める\n",
        "qt(0.025, length(var_toukei1M) + length(var_toukei1F) - 2)\n",
        "qt(0.025, length(var_toukei1M) + length(var_toukei1F) - 2, lower.tail = FALSE)\n",
        "\n",
        "# 以上より、μ1=μ2 (=2群の母平均が等しい) は棄却できない。\n",
        "# 対立仮説：μ1!=μ2 が言えないので、この標本の母集団の平均値に差はあるとは言えない\n",
        "\n",
        "# p値（検定統計量以上/以下の値がえられる確率）を直接計算することも可能\n",
        "# 両側検定なので、下側確率のp値の2倍相当。\n",
        "2*pt(-1.8428853505018, length(var_toukei1M) + length(var_toukei1F) - 2) # 下側確率\n",
        "\n",
        "# 関数を利用することも可能\n",
        "t.test(var_toukei1M, var_toukei1F, var.equal = TRUE)\n",
        "\n",
        "# なお、この検定は分散の等質性が前提になっている\n",
        "# 以下の分散の等質性の検定により、2群の分散が等しいことが確認できる?????（有意水準0.05とする）\n",
        "var.test(var_toukei1M, var_toukei1F)\n"
      ],
      "execution_count": 0,
      "outputs": [
        {
          "output_type": "display_data",
          "data": {
            "text/plain": [
              "[1] 1.085255"
            ],
            "text/latex": "1.08525470640665",
            "text/markdown": "1.08525470640665",
            "text/html": [
              "1.08525470640665"
            ]
          },
          "metadata": {
            "tags": []
          }
        },
        {
          "output_type": "display_data",
          "data": {
            "text/plain": [
              "[1] -2"
            ],
            "text/latex": "-2",
            "text/markdown": "-2",
            "text/html": [
              "-2"
            ]
          },
          "metadata": {
            "tags": []
          }
        },
        {
          "output_type": "display_data",
          "data": {
            "text/plain": [
              "[1] -1.842885"
            ],
            "text/latex": "-1.84288535050185",
            "text/markdown": "-1.84288535050185",
            "text/html": [
              "-1.84288535050185"
            ]
          },
          "metadata": {
            "tags": []
          }
        },
        {
          "output_type": "display_data",
          "data": {
            "text/plain": [
              "[1] -2.100922"
            ],
            "text/latex": "-2.10092204024104",
            "text/markdown": "-2.10092204024104",
            "text/html": [
              "-2.10092204024104"
            ]
          },
          "metadata": {
            "tags": []
          }
        },
        {
          "output_type": "display_data",
          "data": {
            "text/plain": [
              "[1] 2.100922"
            ],
            "text/latex": "2.10092204024104",
            "text/markdown": "2.10092204024104",
            "text/html": [
              "2.10092204024104"
            ]
          },
          "metadata": {
            "tags": []
          }
        },
        {
          "output_type": "display_data",
          "data": {
            "text/plain": [
              "[1] 0.08187801"
            ],
            "text/latex": "0.081878014624115",
            "text/markdown": "0.081878014624115",
            "text/html": [
              "0.081878014624115"
            ]
          },
          "metadata": {
            "tags": []
          }
        },
        {
          "output_type": "display_data",
          "data": {
            "text/plain": [
              "\n",
              "\tTwo Sample t-test\n",
              "\n",
              "data:  var_toukei1M and var_toukei1F\n",
              "t = -1.8429, df = 18, p-value = 0.08188\n",
              "alternative hypothesis: true difference in means is not equal to 0\n",
              "95 percent confidence interval:\n",
              " -4.2800355  0.2800355\n",
              "sample estimates:\n",
              "mean of x mean of y \n",
              "        6         8 \n"
            ]
          },
          "metadata": {
            "tags": []
          }
        },
        {
          "output_type": "display_data",
          "data": {
            "text/plain": [
              "\n",
              "\tF test to compare two variances\n",
              "\n",
              "data:  var_toukei1M and var_toukei1F\n",
              "F = 1.9444, num df = 9, denom df = 9, p-value = 0.3362\n",
              "alternative hypothesis: true ratio of variances is not equal to 1\n",
              "95 percent confidence interval:\n",
              " 0.4829725 7.8283220\n",
              "sample estimates:\n",
              "ratio of variances \n",
              "          1.944444 \n"
            ]
          },
          "metadata": {
            "tags": []
          }
        }
      ]
    },
    {
      "cell_type": "code",
      "metadata": {
        "id": "9XLcsjmSzujt",
        "colab_type": "code",
        "outputId": "6c4c26a4-fefd-482f-cb76-14aca01583bb",
        "colab": {
          "base_uri": "https://localhost:8080/",
          "height": 391
        }
      },
      "source": [
        "# 等分散の性質の検定（F検定）\n",
        "classA <- c(54,55,52,48,50,38,41,40,53,52)\n",
        "classB <- c(67,63,50,60,61,69,43,58,36,29)\n",
        "var.test(classA,classB)\n",
        "# 有意水準0.05とした時、帰無仮説（母分散の比=1）が棄却される。\n",
        "# 対立仮説として母分散の比！=1が採択され、母分散に差があると言える。\n",
        "\n",
        "# welch の検定 (母集団が等分散でない場合の平均値の検定)\n",
        "t.test(classA, classB, var.equal = FALSE)\n",
        "# 有意水準0.05とした時、帰無仮説（母集団の平均値が等しい）が棄却されない。\n",
        "# そのため母分散に差があると言えない。\n"
      ],
      "execution_count": 0,
      "outputs": [
        {
          "output_type": "display_data",
          "data": {
            "text/plain": [
              "\n",
              "\tF test to compare two variances\n",
              "\n",
              "data:  classA and classB\n",
              "F = 0.21567, num df = 9, denom df = 9, p-value = 0.03206\n",
              "alternative hypothesis: true ratio of variances is not equal to 1\n",
              "95 percent confidence interval:\n",
              " 0.05356961 0.86828987\n",
              "sample estimates:\n",
              "ratio of variances \n",
              "         0.2156709 \n"
            ]
          },
          "metadata": {
            "tags": []
          }
        },
        {
          "output_type": "display_data",
          "data": {
            "text/plain": [
              "\n",
              "\tWelch Two Sample t-test\n",
              "\n",
              "data:  classA and classB\n",
              "t = -1.1191, df = 12.71, p-value = 0.2838\n",
              "alternative hypothesis: true difference in means is not equal to 0\n",
              "95 percent confidence interval:\n",
              " -15.554888   4.954888\n",
              "sample estimates:\n",
              "mean of x mean of y \n",
              "     48.3      53.6 \n"
            ]
          },
          "metadata": {
            "tags": []
          }
        }
      ]
    },
    {
      "cell_type": "code",
      "metadata": {
        "id": "SlVL7tUMpSBP",
        "colab_type": "code",
        "outputId": "dbfbcea0-e00f-475a-803a-cec2cc1ab3e0",
        "colab": {
          "base_uri": "https://localhost:8080/",
          "height": 901
        }
      },
      "source": [
        "# 対応のある2群のt検定\n",
        "\n",
        "# 標本\n",
        "var_testToukei1 <- c(6,10,6,10,5,3,5,9,3,3,11,6,11,9,7,5,8,7,7,9)\n",
        "var_testToukei2 <- c(10,13,8,15,8,6,9,10,7,3,18,14,18,11,12,5,7,12,7,7)\n",
        "\n",
        "# この対応ある2群の標本の母集団の平均値に差はあるか？\n",
        "# t検定を行う\n",
        "\n",
        "delta <- var_testToukei2 -var_testToukei1\n",
        "mean(var_testToukei1)\n",
        "mean(var_testToukei2)\n",
        "mean(delta)\n",
        "\n",
        "# 2群の標本の差分　d = X2 - X1 の時、dの標本平均 d' = X2の標本平均 - X1の標本平均　である\n",
        "# dが平均μd, 分散sigd^2 の正規分布に従うと仮定した時\n",
        "# d'も正規分布に従い、d= ~ N( μd, sigd^2 /n ) となる\n",
        "# つまり、　X1の平均値 - X2の平均値 ~ N(μ1-μ2, sig^2)(1/n1 + 1/n2) )\n",
        "# これを標準した確率変数 Z = ( d' - μd ) / ( sigd / root(n) ) は正規分布に従う\n",
        "# つまり、Z ~ N(0,1)\n",
        "# なお、この時のsigdは標本から求めた標準偏差 sigd' で代用すると、\n",
        "# この推定結果となる標本統計量 t = ( d' - μd ) / ( sigd' / root(n) )  はこの標本分布は帰無仮説:μd=0 のもとで自由度 n-1 のt分布に従う。\n",
        "# つまり、t ~ t( n-1)\n",
        "\n",
        "# 帰無仮説：μd = 0 (=変化量の母平均が０),\n",
        "# 対立仮説：μd != 0,\n",
        "\n",
        "# 検定統計量tの実現値を計算\n",
        "t_bunbo <- sd(delta) / sqrt(length(delta))\n",
        "t_bunbo\n",
        "t_bunshi <- mean(delta)\n",
        "t_bunshi\n",
        "t_kenteiryo <- t_bunshi / t_bunbo\n",
        "t_kenteiryo\n",
        "\n",
        "# 有意水準α= 0.05(両側)とする\n",
        "# 下側確率0.025, 下側確率0.974(=上側確率0.025) となるtの値を求める\n",
        "qt(0.025, length(delta) - 1 )\n",
        "qt(0.025, length(delta) - 1 , lower.tail = FALSE)\n",
        "\n",
        "# 以上より、μd = 0(=変化量の母平均が０)　は棄却される\n",
        "# 対立仮説：μd = 0 が言えるので、変化量に有意差はあるとは言える\n",
        "\n",
        "# 関数を利用することも可能\n",
        "# 変化量deltaが平均0の正規分布の母集団から無作為抽出されたと仮定してt検定を行い、\n",
        "# この仮定を棄却することで変化量の母集団の平均!=0を結論づける形になる。\n",
        "t.test(delta) \n",
        "\n",
        "# 変化量を出さなくても関数で検定可能\n",
        "t.test(var_testToukei1,var_testToukei2, paired = TRUE)\n",
        "\n",
        "# なお、同じデータで対応なしとして扱った場合のt検定の結果は以下\n",
        "# 1) 分散の等質性の検定 -> 有意水準0.05で母集団の分散は等しくないと言える。\n",
        "var.test(var_testToukei1, var_testToukei2, )\n",
        "# 2) welchの検定 -> 有意水準0.05で母集団の平均は等しくないと言える。\n",
        "t.test(var_testToukei1, var_testToukei2, var.equal = FALSE) \n"
      ],
      "execution_count": 0,
      "outputs": [
        {
          "output_type": "display_data",
          "data": {
            "text/plain": [
              "[1] 7"
            ],
            "text/latex": "7",
            "text/markdown": "7",
            "text/html": [
              "7"
            ]
          },
          "metadata": {
            "tags": []
          }
        },
        {
          "output_type": "display_data",
          "data": {
            "text/plain": [
              "[1] 10"
            ],
            "text/latex": "10",
            "text/markdown": "10",
            "text/html": [
              "10"
            ]
          },
          "metadata": {
            "tags": []
          }
        },
        {
          "output_type": "display_data",
          "data": {
            "text/plain": [
              "[1] 3"
            ],
            "text/latex": "3",
            "text/markdown": "3",
            "text/html": [
              "3"
            ]
          },
          "metadata": {
            "tags": []
          }
        },
        {
          "output_type": "display_data",
          "data": {
            "text/plain": [
              "[1] 0.6198472"
            ],
            "text/latex": "0.619847179807886",
            "text/markdown": "0.619847179807886",
            "text/html": [
              "0.619847179807886"
            ]
          },
          "metadata": {
            "tags": []
          }
        },
        {
          "output_type": "display_data",
          "data": {
            "text/plain": [
              "[1] 3"
            ],
            "text/latex": "3",
            "text/markdown": "3",
            "text/html": [
              "3"
            ]
          },
          "metadata": {
            "tags": []
          }
        },
        {
          "output_type": "display_data",
          "data": {
            "text/plain": [
              "[1] 4.839903"
            ],
            "text/latex": "4.83990263685609",
            "text/markdown": "4.83990263685609",
            "text/html": [
              "4.83990263685609"
            ]
          },
          "metadata": {
            "tags": []
          }
        },
        {
          "output_type": "display_data",
          "data": {
            "text/plain": [
              "[1] -2.093024"
            ],
            "text/latex": "-2.09302405440831",
            "text/markdown": "-2.09302405440831",
            "text/html": [
              "-2.09302405440831"
            ]
          },
          "metadata": {
            "tags": []
          }
        },
        {
          "output_type": "display_data",
          "data": {
            "text/plain": [
              "[1] 2.093024"
            ],
            "text/latex": "2.09302405440831",
            "text/markdown": "2.09302405440831",
            "text/html": [
              "2.09302405440831"
            ]
          },
          "metadata": {
            "tags": []
          }
        },
        {
          "output_type": "display_data",
          "data": {
            "text/plain": [
              "\n",
              "\tOne Sample t-test\n",
              "\n",
              "data:  delta\n",
              "t = 4.8399, df = 19, p-value = 0.0001138\n",
              "alternative hypothesis: true mean is not equal to 0\n",
              "95 percent confidence interval:\n",
              " 1.702645 4.297355\n",
              "sample estimates:\n",
              "mean of x \n",
              "        3 \n"
            ]
          },
          "metadata": {
            "tags": []
          }
        },
        {
          "output_type": "display_data",
          "data": {
            "text/plain": [
              "\n",
              "\tPaired t-test\n",
              "\n",
              "data:  var_testToukei1 and var_testToukei2\n",
              "t = -4.8399, df = 19, p-value = 0.0001138\n",
              "alternative hypothesis: true difference in means is not equal to 0\n",
              "95 percent confidence interval:\n",
              " -4.297355 -1.702645\n",
              "sample estimates:\n",
              "mean of the differences \n",
              "                     -3 \n"
            ]
          },
          "metadata": {
            "tags": []
          }
        },
        {
          "output_type": "display_data",
          "data": {
            "text/plain": [
              "\n",
              "\tF test to compare two variances\n",
              "\n",
              "data:  var_testToukei1 and var_testToukei2\n",
              "F = 0.3913, num df = 19, denom df = 19, p-value = 0.04733\n",
              "alternative hypothesis: true ratio of variances is not equal to 1\n",
              "95 percent confidence interval:\n",
              " 0.1548830 0.9886112\n",
              "sample estimates:\n",
              "ratio of variances \n",
              "         0.3913043 \n"
            ]
          },
          "metadata": {
            "tags": []
          }
        },
        {
          "output_type": "display_data",
          "data": {
            "text/plain": [
              "\n",
              "\tWelch Two Sample t-test\n",
              "\n",
              "data:  var_testToukei1 and var_testToukei2\n",
              "t = -2.763, df = 31.895, p-value = 0.009429\n",
              "alternative hypothesis: true difference in means is not equal to 0\n",
              "95 percent confidence interval:\n",
              " -5.2119742 -0.7880258\n",
              "sample estimates:\n",
              "mean of x mean of y \n",
              "        7        10 \n"
            ]
          },
          "metadata": {
            "tags": []
          }
        }
      ]
    },
    {
      "cell_type": "code",
      "metadata": {
        "id": "0nJYtqu5slfA",
        "colab_type": "code",
        "outputId": "5ff11ddd-3e4e-48a6-c55b-57a27b4a841d",
        "colab": {
          "base_uri": "https://localhost:8080/",
          "height": 1000
        }
      },
      "source": [
        "# 練習問題\n",
        "\n",
        "# (1) 統計好き VS 統計嫌い　平均得点の有意差\n",
        "# データ\n",
        "var_testToukei1 <- c(6,10,6,10,5,3,5,9,3,3,11,6,11,9,7,5,8,7,7,9)\n",
        "var_toukei <- c( \"suki\",\"suki\",\"suki\",\"suki\", \"kirai\",\"kirai\",\"kirai\",\"kirai\",\"kirai\",\"kirai\", \"suki\",\"suki\",\"suki\",\"kirai\",\"suki\",\"kirai\",\"kirai\",\"kirai\",\"kirai\",\"kirai\")\n",
        "# マスク作成\n",
        "toukei_bin <- ifelse(var_toukei==\"suki\",TRUE,FALSE)\n",
        "# マスクを利用して好きと嫌いに振り分け\n",
        "toukei_suki <- var_testToukei1[toukei_bin ]\n",
        "toukei_kirai <- var_testToukei1[!toukei_bin ]\n",
        "toukei_suki\n",
        "toukei_kirai\n",
        "\n",
        "# 等分散の検定 -> 有意水準 0.05 の時、等分散でないとは言えない\n",
        "var.test(toukei_suki,toukei_kirai)\n",
        "# t検定 -> 有意水準 0.05 の時、帰無仮説を棄却して母集団の平均に有意な差があると言える。\n",
        "t.test(toukei_suki,toukei_kirai, var.equal = TRUE)\n",
        "\n",
        "\n",
        "# (2) 男 VS 女　心理学テスト平均得点の有意差\n",
        "# データ\n",
        "var_testShinri <-c(13,14,7,12,10,6,8,15,4,14,9,6,10,12,5,12,8,8,12,15)\n",
        "var_seibetsu <- c( \"M\",\"M\",\"M\",\"M\",\"M\",\"M\",\"M\",\"M\",\"M\",\"M\",\"F\",\"F\",\"F\",\"F\",\"F\",\"F\",\"F\",\"F\",\"F\",\"F\")\n",
        "# マスク作成\n",
        "seibetsu_bin <- ifelse(var_seibetsu==\"M\",TRUE,FALSE)\n",
        "# マスクを利用して好きと嫌いに振り分け\n",
        "shinri_M <- var_testShinri[seibetsu_bin ]\n",
        "shinri_F <- var_testShinri[!seibetsu_bin ]\n",
        "shinri_M\n",
        "shinri_F\n",
        "\n",
        "# 等分散の検定 -> 有意水準 0.05 の時、等分散でないとは言えない\n",
        "var.test(shinri_M,shinri_F)\n",
        "# t検定 -> 有意水準 0.05 の時、帰無仮説を棄却できず、母集団の平均に有意な差があると言えない。\n",
        "t.test(shinri_M,shinri_F, var.equal = TRUE)\n",
        "\n",
        "\n",
        "# (3) 対応のあるt検定\n",
        "diet_before <- c(61,50,41,55,51,48,46,55,65,70)\n",
        "diet_after <- c(59,548,33,54,47,52,38,50,64,63)\n",
        "# 対応ありt検定 -> 有意水準0.05で棄却できず、差が有意とは言えない\n",
        "t.test(diet_before,diet_after, paired = TRUE)\n"
      ],
      "execution_count": 0,
      "outputs": [
        {
          "output_type": "display_data",
          "data": {
            "text/plain": [
              "[1]  6 10  6 10 11  6 11  7"
            ],
            "text/latex": "\\begin{enumerate*}\n\\item 6\n\\item 10\n\\item 6\n\\item 10\n\\item 11\n\\item 6\n\\item 11\n\\item 7\n\\end{enumerate*}\n",
            "text/markdown": "1. 6\n2. 10\n3. 6\n4. 10\n5. 11\n6. 6\n7. 11\n8. 7\n\n\n",
            "text/html": [
              "<style>\n",
              ".list-inline {list-style: none; margin:0; padding: 0}\n",
              ".list-inline>li {display: inline-block}\n",
              ".list-inline>li:not(:last-child)::after {content: \"\\00b7\"; padding: 0 .5ex}\n",
              "</style>\n",
              "<ol class=list-inline><li>6</li><li>10</li><li>6</li><li>10</li><li>11</li><li>6</li><li>11</li><li>7</li></ol>\n"
            ]
          },
          "metadata": {
            "tags": []
          }
        },
        {
          "output_type": "display_data",
          "data": {
            "text/plain": [
              " [1] 5 3 5 9 3 3 9 5 8 7 7 9"
            ],
            "text/latex": "\\begin{enumerate*}\n\\item 5\n\\item 3\n\\item 5\n\\item 9\n\\item 3\n\\item 3\n\\item 9\n\\item 5\n\\item 8\n\\item 7\n\\item 7\n\\item 9\n\\end{enumerate*}\n",
            "text/markdown": "1. 5\n2. 3\n3. 5\n4. 9\n5. 3\n6. 3\n7. 9\n8. 5\n9. 8\n10. 7\n11. 7\n12. 9\n\n\n",
            "text/html": [
              "<style>\n",
              ".list-inline {list-style: none; margin:0; padding: 0}\n",
              ".list-inline>li {display: inline-block}\n",
              ".list-inline>li:not(:last-child)::after {content: \"\\00b7\"; padding: 0 .5ex}\n",
              "</style>\n",
              "<ol class=list-inline><li>5</li><li>3</li><li>5</li><li>9</li><li>3</li><li>3</li><li>9</li><li>5</li><li>8</li><li>7</li><li>7</li><li>9</li></ol>\n"
            ]
          },
          "metadata": {
            "tags": []
          }
        },
        {
          "output_type": "display_data",
          "data": {
            "text/plain": [
              "\n",
              "\tF test to compare two variances\n",
              "\n",
              "data:  toukei_suki and toukei_kirai\n",
              "F = 0.94598, num df = 7, denom df = 11, p-value = 0.9781\n",
              "alternative hypothesis: true ratio of variances is not equal to 1\n",
              "95 percent confidence interval:\n",
              " 0.2516814 4.4550605\n",
              "sample estimates:\n",
              "ratio of variances \n",
              "         0.9459792 \n"
            ]
          },
          "metadata": {
            "tags": []
          }
        },
        {
          "output_type": "display_data",
          "data": {
            "text/plain": [
              "\n",
              "\tTwo Sample t-test\n",
              "\n",
              "data:  toukei_suki and toukei_kirai\n",
              "t = 2.1218, df = 18, p-value = 0.048\n",
              "alternative hypothesis: true difference in means is not equal to 0\n",
              "95 percent confidence interval:\n",
              " 0.02250531 4.56082802\n",
              "sample estimates:\n",
              "mean of x mean of y \n",
              " 8.375000  6.083333 \n"
            ]
          },
          "metadata": {
            "tags": []
          }
        },
        {
          "output_type": "display_data",
          "data": {
            "text/plain": [
              " [1] 13 14  7 12 10  6  8 15  4 14"
            ],
            "text/latex": "\\begin{enumerate*}\n\\item 13\n\\item 14\n\\item 7\n\\item 12\n\\item 10\n\\item 6\n\\item 8\n\\item 15\n\\item 4\n\\item 14\n\\end{enumerate*}\n",
            "text/markdown": "1. 13\n2. 14\n3. 7\n4. 12\n5. 10\n6. 6\n7. 8\n8. 15\n9. 4\n10. 14\n\n\n",
            "text/html": [
              "<style>\n",
              ".list-inline {list-style: none; margin:0; padding: 0}\n",
              ".list-inline>li {display: inline-block}\n",
              ".list-inline>li:not(:last-child)::after {content: \"\\00b7\"; padding: 0 .5ex}\n",
              "</style>\n",
              "<ol class=list-inline><li>13</li><li>14</li><li>7</li><li>12</li><li>10</li><li>6</li><li>8</li><li>15</li><li>4</li><li>14</li></ol>\n"
            ]
          },
          "metadata": {
            "tags": []
          }
        },
        {
          "output_type": "display_data",
          "data": {
            "text/plain": [
              " [1]  9  6 10 12  5 12  8  8 12 15"
            ],
            "text/latex": "\\begin{enumerate*}\n\\item 9\n\\item 6\n\\item 10\n\\item 12\n\\item 5\n\\item 12\n\\item 8\n\\item 8\n\\item 12\n\\item 15\n\\end{enumerate*}\n",
            "text/markdown": "1. 9\n2. 6\n3. 10\n4. 12\n5. 5\n6. 12\n7. 8\n8. 8\n9. 12\n10. 15\n\n\n",
            "text/html": [
              "<style>\n",
              ".list-inline {list-style: none; margin:0; padding: 0}\n",
              ".list-inline>li {display: inline-block}\n",
              ".list-inline>li:not(:last-child)::after {content: \"\\00b7\"; padding: 0 .5ex}\n",
              "</style>\n",
              "<ol class=list-inline><li>9</li><li>6</li><li>10</li><li>12</li><li>5</li><li>12</li><li>8</li><li>8</li><li>12</li><li>15</li></ol>\n"
            ]
          },
          "metadata": {
            "tags": []
          }
        },
        {
          "output_type": "display_data",
          "data": {
            "text/plain": [
              "\n",
              "\tF test to compare two variances\n",
              "\n",
              "data:  shinri_M and shinri_F\n",
              "F = 1.5575, num df = 9, denom df = 9, p-value = 0.5196\n",
              "alternative hypothesis: true ratio of variances is not equal to 1\n",
              "95 percent confidence interval:\n",
              " 0.3868588 6.2704508\n",
              "sample estimates:\n",
              "ratio of variances \n",
              "          1.557491 \n"
            ]
          },
          "metadata": {
            "tags": []
          }
        },
        {
          "output_type": "display_data",
          "data": {
            "text/plain": [
              "\n",
              "\tTwo Sample t-test\n",
              "\n",
              "data:  shinri_M and shinri_F\n",
              "t = 0.38359, df = 18, p-value = 0.7058\n",
              "alternative hypothesis: true difference in means is not equal to 0\n",
              "95 percent confidence interval:\n",
              " -2.686225  3.886225\n",
              "sample estimates:\n",
              "mean of x mean of y \n",
              "     10.3       9.7 \n"
            ]
          },
          "metadata": {
            "tags": []
          }
        },
        {
          "output_type": "display_data",
          "data": {
            "text/plain": [
              "\n",
              "\tPaired t-test\n",
              "\n",
              "data:  diet_before and diet_after\n",
              "t = -0.92885, df = 9, p-value = 0.3772\n",
              "alternative hypothesis: true difference in means is not equal to 0\n",
              "95 percent confidence interval:\n",
              " -160.09137   66.89137\n",
              "sample estimates:\n",
              "mean of the differences \n",
              "                  -46.6 \n"
            ]
          },
          "metadata": {
            "tags": []
          }
        }
      ]
    },
    {
      "cell_type": "markdown",
      "metadata": {
        "id": "3FQhdyrE91sQ",
        "colab_type": "text"
      },
      "source": [
        "# 第7章　分散分析"
      ]
    },
    {
      "cell_type": "code",
      "metadata": {
        "id": "LY7L_kdq3FHl",
        "colab_type": "code",
        "colab": {}
      },
      "source": [
        ""
      ],
      "execution_count": 0,
      "outputs": []
    }
  ]
}